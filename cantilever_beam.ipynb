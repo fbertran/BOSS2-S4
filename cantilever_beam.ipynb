{
  "nbformat": 4,
  "nbformat_minor": 0,
  "metadata": {
    "colab": {
      "name": "Untitled1.ipynb",
      "provenance": [],
      "collapsed_sections": [],
      "include_colab_link": true
    },
    "kernelspec": {
      "name": "python2",
      "display_name": "Python 2"
    }
  },
  "cells": [
    {
      "cell_type": "markdown",
      "metadata": {
        "id": "view-in-github",
        "colab_type": "text"
      },
      "source": [
        "<a href=\"https://colab.research.google.com/github/fbertran/m2csmi_s1/blob/master/cantilever_beam.ipynb\" target=\"_parent\"><img src=\"https://colab.research.google.com/assets/colab-badge.svg\" alt=\"Open In Colab\"/></a>"
      ]
    },
    {
      "cell_type": "code",
      "metadata": {
        "id": "REQs1PbnXkf5",
        "colab_type": "code",
        "outputId": "2e737167-548a-4453-9f3c-0af0f38da094",
        "colab": {
          "base_uri": "https://localhost:8080/",
          "height": 122
        }
      },
      "source": [
        "!pip install openturns"
      ],
      "execution_count": 1,
      "outputs": [
        {
          "output_type": "stream",
          "text": [
            "Collecting openturns\n",
            "\u001b[?25l  Downloading https://files.pythonhosted.org/packages/76/c9/573b510cd888fe0a29fd4961834d1f0a00172a854123c0da94d7544c82d1/openturns-1.13-cp27-cp27mu-manylinux1_x86_64.whl (33.7MB)\n",
            "\u001b[K     |████████████████████████████████| 33.7MB 1.3MB/s \n",
            "\u001b[?25hInstalling collected packages: openturns\n",
            "Successfully installed openturns-1.13\n"
          ],
          "name": "stdout"
        }
      ]
    },
    {
      "cell_type": "code",
      "metadata": {
        "id": "5-ZEDEkoX0I8",
        "colab_type": "code",
        "colab": {}
      },
      "source": [
        "from openturns import *\n",
        "\n",
        "# import optional OpenTURNS viewer module\n",
        "from openturns.viewer import View\n",
        "\n",
        "from math import sqrt"
      ],
      "execution_count": 0,
      "outputs": []
    },
    {
      "cell_type": "code",
      "metadata": {
        "id": "bCQIkOSwX0w0",
        "colab_type": "code",
        "colab": {}
      },
      "source": [
        "#######################\n",
        "### Function 'deviation'\n",
        "#######################\n",
        "# Create here the python lines to define the implementation of the function\n",
        "\n",
        "# In order to be able to use that function with the openturns library,\n",
        "# it is necessary to define a class which derives from OpenTURNSPythonFunction\n",
        "\n",
        "class modelePYTHON(OpenTURNSPythonFunction) :\n",
        "  # that following method defines the input size (4) and the output size (1)\n",
        "  def __init__(self) :\n",
        "    OpenTURNSPythonFunction.__init__(self,4,1)\n",
        "\n",
        "  # that following method gives the implementation of modelePYTHON\n",
        "  def _exec(self,x) :\n",
        "    E=x[0]\n",
        "    F=x[1]\n",
        "    L=x[2]\n",
        "    I=x[3]\n",
        "    return [(F*L*L*L)/(3.*E*I)]\n",
        "\n",
        "# Use that function defined in the script python\n",
        "# with the openturns library\n",
        "# Create a Function from modelePYTHON\n",
        "deviation = Function(modelePYTHON())"
      ],
      "execution_count": 0,
      "outputs": []
    },
    {
      "cell_type": "code",
      "metadata": {
        "id": "O23darRNarvn",
        "colab_type": "code",
        "colab": {}
      },
      "source": [
        "###########################################\n",
        "### Input random vector\n",
        "###########################################\n",
        "\n",
        "# Create the marginal distriutions of the input random vector\n",
        "distributionE = Beta(0.93, 3.2, 2.8e7, 4.8e7)\n",
        "distributionF = LogNormalMuSigma(300.0, 90.0, 150.0).getDistribution()\n",
        "distributionL = Uniform(250, 260)\n",
        "distributionI = Beta(2.5, 4.0, 3.1e2, 4.5e2)"
      ],
      "execution_count": 0,
      "outputs": []
    },
    {
      "cell_type": "code",
      "metadata": {
        "id": "ay59Irxpasoj",
        "colab_type": "code",
        "outputId": "9e08af01-3397-46c5-8273-18d26ba55b2e",
        "colab": {
          "base_uri": "https://localhost:8080/",
          "height": 599
        }
      },
      "source": [
        "# Visualize the probability density functions\n",
        "\n",
        "pdfLoiE = distributionE.drawPDF()\n",
        "# Change the legend\n",
        "draw_E = pdfLoiE.getDrawable(0)\n",
        "draw_E.setLegend(\"Beta(0.93, 3.2, 2.8e7, 4.8e7)\")\n",
        "pdfLoiE.setDrawable(draw_E,0)\n",
        "# Change the title\n",
        "pdfLoiE.setTitle(\"PDF of E\")\n",
        "\n",
        "#pdfLoiE.draw(\"distributionE_pdf\", 640, 480)\n",
        "View(pdfLoiE).save('pdf_R.png')\n",
        "View(pdfLoiE).show()"
      ],
      "execution_count": 7,
      "outputs": [
        {
          "output_type": "display_data",
          "data": {
            "image/png": "[encoded data removed]",
            "text/plain": [
              "<Figure size 432x288 with 1 Axes>"
            ]
          },
          "metadata": {
            "tags": []
          }
        },
        {
          "output_type": "display_data",
          "data": {
            "image/png": "[encoded data removed]",
            "text/plain": [
              "<Figure size 432x288 with 1 Axes>"
            ]
          },
          "metadata": {
            "tags": []
          }
        }
      ]
    },
    {
      "cell_type": "code",
      "metadata": {
        "id": "Og9Kzd5Oax1W",
        "colab_type": "code",
        "outputId": "de93212c-af67-4d93-8b3f-2f35ffde0202",
        "colab": {
          "base_uri": "https://localhost:8080/",
          "height": 308
        }
      },
      "source": [
        "pdfLoiF = distributionF.drawPDF()\n",
        "# Change the legend\n",
        "draw_F = pdfLoiF.getDrawable(0)\n",
        "draw_F.setLegend(\"LogNormal(300, 90, 150)\")\n",
        "pdfLoiF.setDrawable(draw_F,0)\n",
        "# Change the title\n",
        "pdfLoiF.setTitle(\"PDF of F\")\n",
        "\n",
        "#pdfLoiF.draw(\"distributionF_pdf\", 640, 480)\n",
        "View(pdfLoiF).show()"
      ],
      "execution_count": 8,
      "outputs": [
        {
          "output_type": "display_data",
          "data": {
            "image/png": "[encoded data removed]",
            "text/plain": [
              "<Figure size 432x288 with 1 Axes>"
            ]
          },
          "metadata": {
            "tags": []
          }
        }
      ]
    },
    {
      "cell_type": "code",
      "metadata": {
        "id": "k_87xrTgax4y",
        "colab_type": "code",
        "outputId": "a6bfd346-c293-46a5-9a35-2459b1c4a169",
        "colab": {
          "base_uri": "https://localhost:8080/",
          "height": 308
        }
      },
      "source": [
        "pdfLoiL = distributionL.drawPDF()\n",
        "# Change the legend\n",
        "draw_L = pdfLoiL.getDrawable(0)\n",
        "draw_L.setLegend(\"Uniform(250, 260)\")\n",
        "pdfLoiL.setDrawable(draw_L,0)\n",
        "# Change the title\n",
        "pdfLoiL.setTitle(\"PDF of L\")\n",
        "\n",
        "#pdfLoiL.draw(\"distributionL_pdf\", 640, 480)\n",
        "View(pdfLoiL).show()\n"
      ],
      "execution_count": 9,
      "outputs": [
        {
          "output_type": "display_data",
          "data": {
            "image/png": "[encoded data removed]",
            "text/plain": [
              "<Figure size 432x288 with 1 Axes>"
            ]
          },
          "metadata": {
            "tags": []
          }
        }
      ]
    },
    {
      "cell_type": "code",
      "metadata": {
        "id": "t1ZF8Aarax7K",
        "colab_type": "code",
        "outputId": "b6c589f8-3a3e-447d-83a9-46209431386e",
        "colab": {
          "base_uri": "https://localhost:8080/",
          "height": 308
        }
      },
      "source": [
        "pdfLoiI = distributionI.drawPDF()\n",
        "# Change the legend\n",
        "draw_I = pdfLoiI.getDrawable(0)\n",
        "draw_I.setLegend(\"Beta(2.5, 4.0, 3.1e2, 4.5e2)\")\n",
        "pdfLoiI.setDrawable(draw_I,0)\n",
        "# Change the title\n",
        "pdfLoiI.setTitle(\"PDF of I\")\n",
        "\n",
        "#pdfLoiI.draw(\"distributionI_pdf\", 640, 480)\n",
        "View(pdfLoiI).show()"
      ],
      "execution_count": 10,
      "outputs": [
        {
          "output_type": "display_data",
          "data": {
            "image/png": "[encoded data removed]",
            "text/plain": [
              "<Figure size 432x288 with 1 Axes>"
            ]
          },
          "metadata": {
            "tags": []
          }
        }
      ]
    },
    {
      "cell_type": "code",
      "metadata": {
        "id": "Db7y1ndua5oW",
        "colab_type": "code",
        "outputId": "8c425a89-8f05-49e7-f956-9f60206128c2",
        "colab": {
          "base_uri": "https://localhost:8080/",
          "height": 173
        }
      },
      "source": [
        "# Create the Spearman correlation matrix of the input random vector\n",
        "RS = CorrelationMatrix(4)\n",
        "print( \"RS = \", RS)\n",
        "RS[2,3] = -0.2\n",
        "print( \"RS = \", RS)\n",
        "\n",
        "print(RS)\n",
        "\n",
        "print( \"2,3 = \", RS[2,3])\n",
        "print( \"3,2 = \", RS[3,2])"
      ],
      "execution_count": 12,
      "outputs": [
        {
          "output_type": "stream",
          "text": [
            "('RS = ', class=CorrelationMatrix dimension=4 implementation=class=MatrixImplementation name=Unnamed rows=4 columns=4 values=[1,0,0,0,0,1,0,0,0,0,1,0,0,0,0,1])\n",
            "('RS = ', class=CorrelationMatrix dimension=4 implementation=class=MatrixImplementation name=Unnamed rows=4 columns=4 values=[1,0,0,0,0,1,0,0,0,0,1,-0.2,0,0,-0.2,1])\n",
            "[[  1    0    0    0   ]\n",
            " [  0    1    0    0   ]\n",
            " [  0    0    1   -0.2 ]\n",
            " [  0    0   -0.2  1   ]]\n",
            "('2,3 = ', -0.2)\n",
            "('3,2 = ', -0.2)\n"
          ],
          "name": "stdout"
        }
      ]
    },
    {
      "cell_type": "code",
      "metadata": {
        "id": "jP2MlLAXa5rK",
        "colab_type": "code",
        "colab": {}
      },
      "source": [
        "# Evaluate the correlation matrix of the Normal copula from RS\n",
        "R = NormalCopula.GetCorrelationFromSpearmanCorrelation(RS)\n",
        "\n",
        "# Create the Normal copula parametrized by R\n",
        "copuleNormal = NormalCopula(R)"
      ],
      "execution_count": 0,
      "outputs": []
    },
    {
      "cell_type": "code",
      "metadata": {
        "id": "8lsIZR-na5wv",
        "colab_type": "code",
        "colab": {}
      },
      "source": [
        "# Create a collection of the marginal distributions\n",
        "collectionMarginals = [distributionE, distributionF, distributionL, distributionI]\n",
        "\n",
        "# Create the input probability distribution of dimension 4\n",
        "inputDistribution = ComposedDistribution(collectionMarginals, copuleNormal)\n",
        "\n",
        "# Give a description of each component of the input distribution\n",
        "inputDistribution.setDescription( (\"E\",\"F\",\"L\",\"I\") )\n",
        "\n",
        "# Create the input random vector\n",
        "inputRandomVector = RandomVector(inputDistribution)\n",
        "inputRandomVector.setDescription( (\"E\",\"F\",\"L\",\"I\") )"
      ],
      "execution_count": 0,
      "outputs": []
    },
    {
      "cell_type": "code",
      "metadata": {
        "id": "uYW6BWzhbH3m",
        "colab_type": "code",
        "colab": {}
      },
      "source": [
        "# Create the output variable of interest\n",
        "outputVariableOfInterest =  RandomVector(deviation, inputRandomVector)"
      ],
      "execution_count": 0,
      "outputs": []
    },
    {
      "cell_type": "code",
      "metadata": {
        "id": "tYd9CgQeb3wd",
        "colab_type": "code",
        "outputId": "952cb100-ba89-470d-9bac-ac74829f43d9",
        "colab": {
          "base_uri": "https://localhost:8080/",
          "height": 1375
        }
      },
      "source": [
        "####################################################\n",
        "# Min/Max study with deterministic design of experiment\n",
        "####################################################\n",
        "\n",
        "print( \"###################################################\")\n",
        "print( \" Min/Max study with deterministic design of experiments \")\n",
        "print( \"###################################################\")\n",
        "\n",
        "\n",
        "dim = deviation.getInputDimension()\n",
        "\n",
        "# Create the structure of the design of experiments : Composite type\n",
        "\n",
        "# On each direction separately, several levels are evaluated\n",
        "# here,  3 levels : +/-0.5, +/-1., +/-3. from the center\n",
        "levelsNumber = 3\n",
        "levels = Point(levelsNumber, 0.0)\n",
        "levels[0] = 0.5\n",
        "levels[1] = 1.0\n",
        "levels[2] = 3.0\n",
        "# Creation of the composite design of experiments\n",
        "myDesign = Composite(dim, levels)\n",
        "\n",
        "# Generation of points according to the structure of the design of experiments\n",
        "# (in a reduced centered space)\n",
        "inputSample = myDesign.generate()\n",
        "print(myDesign.generate())"
      ],
      "execution_count": 0,
      "outputs": [
        {
          "output_type": "stream",
          "text": [
            "###################################################\n",
            " Min/Max study with deterministic design of experiments \n",
            "###################################################\n",
            " 0 : [  0    0    0    0   ]\n",
            " 1 : [ -0.5 -0.5 -0.5 -0.5 ]\n",
            " 2 : [  0.5 -0.5 -0.5 -0.5 ]\n",
            " 3 : [ -0.5  0.5 -0.5 -0.5 ]\n",
            " 4 : [  0.5  0.5 -0.5 -0.5 ]\n",
            " 5 : [ -0.5 -0.5  0.5 -0.5 ]\n",
            " 6 : [  0.5 -0.5  0.5 -0.5 ]\n",
            " 7 : [ -0.5  0.5  0.5 -0.5 ]\n",
            " 8 : [  0.5  0.5  0.5 -0.5 ]\n",
            " 9 : [ -0.5 -0.5 -0.5  0.5 ]\n",
            "10 : [  0.5 -0.5 -0.5  0.5 ]\n",
            "11 : [ -0.5  0.5 -0.5  0.5 ]\n",
            "12 : [  0.5  0.5 -0.5  0.5 ]\n",
            "13 : [ -0.5 -0.5  0.5  0.5 ]\n",
            "14 : [  0.5 -0.5  0.5  0.5 ]\n",
            "15 : [ -0.5  0.5  0.5  0.5 ]\n",
            "16 : [  0.5  0.5  0.5  0.5 ]\n",
            "17 : [ -1   -1   -1   -1   ]\n",
            "18 : [  1   -1   -1   -1   ]\n",
            "19 : [ -1    1   -1   -1   ]\n",
            "20 : [  1    1   -1   -1   ]\n",
            "21 : [ -1   -1    1   -1   ]\n",
            "22 : [  1   -1    1   -1   ]\n",
            "23 : [ -1    1    1   -1   ]\n",
            "24 : [  1    1    1   -1   ]\n",
            "25 : [ -1   -1   -1    1   ]\n",
            "26 : [  1   -1   -1    1   ]\n",
            "27 : [ -1    1   -1    1   ]\n",
            "28 : [  1    1   -1    1   ]\n",
            "29 : [ -1   -1    1    1   ]\n",
            "30 : [  1   -1    1    1   ]\n",
            "31 : [ -1    1    1    1   ]\n",
            "32 : [  1    1    1    1   ]\n",
            "33 : [ -3   -3   -3   -3   ]\n",
            "34 : [  3   -3   -3   -3   ]\n",
            "35 : [ -3    3   -3   -3   ]\n",
            "36 : [  3    3   -3   -3   ]\n",
            "37 : [ -3   -3    3   -3   ]\n",
            "38 : [  3   -3    3   -3   ]\n",
            "39 : [ -3    3    3   -3   ]\n",
            "40 : [  3    3    3   -3   ]\n",
            "41 : [ -3   -3   -3    3   ]\n",
            "42 : [  3   -3   -3    3   ]\n",
            "43 : [ -3    3   -3    3   ]\n",
            "44 : [  3    3   -3    3   ]\n",
            "45 : [ -3   -3    3    3   ]\n",
            "46 : [  3   -3    3    3   ]\n",
            "47 : [ -3    3    3    3   ]\n",
            "48 : [  3    3    3    3   ]\n",
            "49 : [  0.5  0    0    0   ]\n",
            "50 : [ -0.5  0    0    0   ]\n",
            "51 : [  0    0.5  0    0   ]\n",
            "52 : [  0   -0.5  0    0   ]\n",
            "53 : [  0    0    0.5  0   ]\n",
            "54 : [  0    0   -0.5  0   ]\n",
            "55 : [  0    0    0    0.5 ]\n",
            "56 : [  0    0    0   -0.5 ]\n",
            "57 : [  1    0    0    0   ]\n",
            "58 : [ -1    0    0    0   ]\n",
            "59 : [  0    1    0    0   ]\n",
            "60 : [  0   -1    0    0   ]\n",
            "61 : [  0    0    1    0   ]\n",
            "62 : [  0    0   -1    0   ]\n",
            "63 : [  0    0    0    1   ]\n",
            "64 : [  0    0    0   -1   ]\n",
            "65 : [  3    0    0    0   ]\n",
            "66 : [ -3    0    0    0   ]\n",
            "67 : [  0    3    0    0   ]\n",
            "68 : [  0   -3    0    0   ]\n",
            "69 : [  0    0    3    0   ]\n",
            "70 : [  0    0   -3    0   ]\n",
            "71 : [  0    0    0    3   ]\n",
            "72 : [  0    0    0   -3   ]\n"
          ],
          "name": "stdout"
        }
      ]
    },
    {
      "cell_type": "code",
      "metadata": {
        "id": "htPi9zw9b3zb",
        "colab_type": "code",
        "outputId": "0ad42efb-c882-4a0c-afe5-d922e8b5533f",
        "colab": {
          "base_uri": "https://localhost:8080/",
          "height": 1339
        }
      },
      "source": [
        "# Scaling of the structure of the design of experiments\n",
        "# scaling vector for each dimension of the levels of the structure\n",
        "# to take into account the dimension of each component\n",
        "# for example : the standard deviation of each component of 'inputRandomVector'\n",
        "# in case of a RandomVector\n",
        "scaling = Point(dim)\n",
        "scaling[0] = sqrt(inputRandomVector.getCovariance()[0,0])\n",
        "scaling[1] = sqrt(inputRandomVector.getCovariance()[1,1])\n",
        "scaling[2] = sqrt(inputRandomVector.getCovariance()[2,2])\n",
        "scaling[3] = sqrt(inputRandomVector.getCovariance()[3,3])\n",
        "\n",
        "print(scaling)\n",
        "inputSample *= scaling\n",
        "print(inputSample)"
      ],
      "execution_count": 0,
      "outputs": [
        {
          "output_type": "stream",
          "text": [
            "[4.43108e+06,9,2.88675,30.3109]\n",
            " 0 : [   0             0             0             0           ]\n",
            " 1 : [  -2.21554e+06  -4.5          -1.44338     -15.1554      ]\n",
            " 2 : [   2.21554e+06  -4.5          -1.44338     -15.1554      ]\n",
            " 3 : [  -2.21554e+06   4.5          -1.44338     -15.1554      ]\n",
            " 4 : [   2.21554e+06   4.5          -1.44338     -15.1554      ]\n",
            " 5 : [  -2.21554e+06  -4.5           1.44338     -15.1554      ]\n",
            " 6 : [   2.21554e+06  -4.5           1.44338     -15.1554      ]\n",
            " 7 : [  -2.21554e+06   4.5           1.44338     -15.1554      ]\n",
            " 8 : [   2.21554e+06   4.5           1.44338     -15.1554      ]\n",
            " 9 : [  -2.21554e+06  -4.5          -1.44338      15.1554      ]\n",
            "10 : [   2.21554e+06  -4.5          -1.44338      15.1554      ]\n",
            "11 : [  -2.21554e+06   4.5          -1.44338      15.1554      ]\n",
            "12 : [   2.21554e+06   4.5          -1.44338      15.1554      ]\n",
            "13 : [  -2.21554e+06  -4.5           1.44338      15.1554      ]\n",
            "14 : [   2.21554e+06  -4.5           1.44338      15.1554      ]\n",
            "15 : [  -2.21554e+06   4.5           1.44338      15.1554      ]\n",
            "16 : [   2.21554e+06   4.5           1.44338      15.1554      ]\n",
            "17 : [  -4.43108e+06  -9            -2.88675     -30.3109      ]\n",
            "18 : [   4.43108e+06  -9            -2.88675     -30.3109      ]\n",
            "19 : [  -4.43108e+06   9            -2.88675     -30.3109      ]\n",
            "20 : [   4.43108e+06   9            -2.88675     -30.3109      ]\n",
            "21 : [  -4.43108e+06  -9             2.88675     -30.3109      ]\n",
            "22 : [   4.43108e+06  -9             2.88675     -30.3109      ]\n",
            "23 : [  -4.43108e+06   9             2.88675     -30.3109      ]\n",
            "24 : [   4.43108e+06   9             2.88675     -30.3109      ]\n",
            "25 : [  -4.43108e+06  -9            -2.88675      30.3109      ]\n",
            "26 : [   4.43108e+06  -9            -2.88675      30.3109      ]\n",
            "27 : [  -4.43108e+06   9            -2.88675      30.3109      ]\n",
            "28 : [   4.43108e+06   9            -2.88675      30.3109      ]\n",
            "29 : [  -4.43108e+06  -9             2.88675      30.3109      ]\n",
            "30 : [   4.43108e+06  -9             2.88675      30.3109      ]\n",
            "31 : [  -4.43108e+06   9             2.88675      30.3109      ]\n",
            "32 : [   4.43108e+06   9             2.88675      30.3109      ]\n",
            "33 : [  -1.32932e+07 -27            -8.66025     -90.9327      ]\n",
            "34 : [   1.32932e+07 -27            -8.66025     -90.9327      ]\n",
            "35 : [  -1.32932e+07  27            -8.66025     -90.9327      ]\n",
            "36 : [   1.32932e+07  27            -8.66025     -90.9327      ]\n",
            "37 : [  -1.32932e+07 -27             8.66025     -90.9327      ]\n",
            "38 : [   1.32932e+07 -27             8.66025     -90.9327      ]\n",
            "39 : [  -1.32932e+07  27             8.66025     -90.9327      ]\n",
            "40 : [   1.32932e+07  27             8.66025     -90.9327      ]\n",
            "41 : [  -1.32932e+07 -27            -8.66025      90.9327      ]\n",
            "42 : [   1.32932e+07 -27            -8.66025      90.9327      ]\n",
            "43 : [  -1.32932e+07  27            -8.66025      90.9327      ]\n",
            "44 : [   1.32932e+07  27            -8.66025      90.9327      ]\n",
            "45 : [  -1.32932e+07 -27             8.66025      90.9327      ]\n",
            "46 : [   1.32932e+07 -27             8.66025      90.9327      ]\n",
            "47 : [  -1.32932e+07  27             8.66025      90.9327      ]\n",
            "48 : [   1.32932e+07  27             8.66025      90.9327      ]\n",
            "49 : [   2.21554e+06   0             0             0           ]\n",
            "50 : [  -2.21554e+06   0             0             0           ]\n",
            "51 : [   0             4.5           0             0           ]\n",
            "52 : [   0            -4.5           0             0           ]\n",
            "53 : [   0             0             1.44338       0           ]\n",
            "54 : [   0             0            -1.44338       0           ]\n",
            "55 : [   0             0             0            15.1554      ]\n",
            "56 : [   0             0             0           -15.1554      ]\n",
            "57 : [   4.43108e+06   0             0             0           ]\n",
            "58 : [  -4.43108e+06   0             0             0           ]\n",
            "59 : [   0             9             0             0           ]\n",
            "60 : [   0            -9             0             0           ]\n",
            "61 : [   0             0             2.88675       0           ]\n",
            "62 : [   0             0            -2.88675       0           ]\n",
            "63 : [   0             0             0            30.3109      ]\n",
            "64 : [   0             0             0           -30.3109      ]\n",
            "65 : [   1.32932e+07   0             0             0           ]\n",
            "66 : [  -1.32932e+07   0             0             0           ]\n",
            "67 : [   0            27             0             0           ]\n",
            "68 : [   0           -27             0             0           ]\n",
            "69 : [   0             0             8.66025       0           ]\n",
            "70 : [   0             0            -8.66025       0           ]\n",
            "71 : [   0             0             0            90.9327      ]\n",
            "72 : [   0             0             0           -90.9327      ]\n"
          ],
          "name": "stdout"
        }
      ]
    },
    {
      "cell_type": "code",
      "metadata": {
        "id": "xUzS7jzqb31-",
        "colab_type": "code",
        "outputId": "8a4e182c-5490-433a-9a7e-8c408d49f3ae",
        "colab": {
          "base_uri": "https://localhost:8080/",
          "height": 1321
        }
      },
      "source": [
        "# Translation of the nonReducedSample onto the center of the design of experiments\n",
        "# center = mean point of the inputRandomVector distribution\n",
        "center = inputRandomVector.getMean()\n",
        "inputSample += center\n",
        "\n",
        "print(inputSample)"
      ],
      "execution_count": 0,
      "outputs": [
        {
          "output_type": "stream",
          "text": [
            " 0 : [   3.38125e+07  30           255           397.5         ]\n",
            " 1 : [   3.1597e+07   25.5         253.557       382.345       ]\n",
            " 2 : [   3.6028e+07   25.5         253.557       382.345       ]\n",
            " 3 : [   3.1597e+07   34.5         253.557       382.345       ]\n",
            " 4 : [   3.6028e+07   34.5         253.557       382.345       ]\n",
            " 5 : [   3.1597e+07   25.5         256.443       382.345       ]\n",
            " 6 : [   3.6028e+07   25.5         256.443       382.345       ]\n",
            " 7 : [   3.1597e+07   34.5         256.443       382.345       ]\n",
            " 8 : [   3.6028e+07   34.5         256.443       382.345       ]\n",
            " 9 : [   3.1597e+07   25.5         253.557       412.655       ]\n",
            "10 : [   3.6028e+07   25.5         253.557       412.655       ]\n",
            "11 : [   3.1597e+07   34.5         253.557       412.655       ]\n",
            "12 : [   3.6028e+07   34.5         253.557       412.655       ]\n",
            "13 : [   3.1597e+07   25.5         256.443       412.655       ]\n",
            "14 : [   3.6028e+07   25.5         256.443       412.655       ]\n",
            "15 : [   3.1597e+07   34.5         256.443       412.655       ]\n",
            "16 : [   3.6028e+07   34.5         256.443       412.655       ]\n",
            "17 : [   2.93814e+07  21           252.113       367.189       ]\n",
            "18 : [   3.82436e+07  21           252.113       367.189       ]\n",
            "19 : [   2.93814e+07  39           252.113       367.189       ]\n",
            "20 : [   3.82436e+07  39           252.113       367.189       ]\n",
            "21 : [   2.93814e+07  21           257.887       367.189       ]\n",
            "22 : [   3.82436e+07  21           257.887       367.189       ]\n",
            "23 : [   2.93814e+07  39           257.887       367.189       ]\n",
            "24 : [   3.82436e+07  39           257.887       367.189       ]\n",
            "25 : [   2.93814e+07  21           252.113       427.811       ]\n",
            "26 : [   3.82436e+07  21           252.113       427.811       ]\n",
            "27 : [   2.93814e+07  39           252.113       427.811       ]\n",
            "28 : [   3.82436e+07  39           252.113       427.811       ]\n",
            "29 : [   2.93814e+07  21           257.887       427.811       ]\n",
            "30 : [   3.82436e+07  21           257.887       427.811       ]\n",
            "31 : [   2.93814e+07  39           257.887       427.811       ]\n",
            "32 : [   3.82436e+07  39           257.887       427.811       ]\n",
            "33 : [   2.05193e+07   3           246.34        306.567       ]\n",
            "34 : [   4.71057e+07   3           246.34        306.567       ]\n",
            "35 : [   2.05193e+07  57           246.34        306.567       ]\n",
            "36 : [   4.71057e+07  57           246.34        306.567       ]\n",
            "37 : [   2.05193e+07   3           263.66        306.567       ]\n",
            "38 : [   4.71057e+07   3           263.66        306.567       ]\n",
            "39 : [   2.05193e+07  57           263.66        306.567       ]\n",
            "40 : [   4.71057e+07  57           263.66        306.567       ]\n",
            "41 : [   2.05193e+07   3           246.34        488.433       ]\n",
            "42 : [   4.71057e+07   3           246.34        488.433       ]\n",
            "43 : [   2.05193e+07  57           246.34        488.433       ]\n",
            "44 : [   4.71057e+07  57           246.34        488.433       ]\n",
            "45 : [   2.05193e+07   3           263.66        488.433       ]\n",
            "46 : [   4.71057e+07   3           263.66        488.433       ]\n",
            "47 : [   2.05193e+07  57           263.66        488.433       ]\n",
            "48 : [   4.71057e+07  57           263.66        488.433       ]\n",
            "49 : [   3.6028e+07   30           255           397.5         ]\n",
            "50 : [   3.1597e+07   30           255           397.5         ]\n",
            "51 : [   3.38125e+07  34.5         255           397.5         ]\n",
            "52 : [   3.38125e+07  25.5         255           397.5         ]\n",
            "53 : [   3.38125e+07  30           256.443       397.5         ]\n",
            "54 : [   3.38125e+07  30           253.557       397.5         ]\n",
            "55 : [   3.38125e+07  30           255           412.655       ]\n",
            "56 : [   3.38125e+07  30           255           382.345       ]\n",
            "57 : [   3.82436e+07  30           255           397.5         ]\n",
            "58 : [   2.93814e+07  30           255           397.5         ]\n",
            "59 : [   3.38125e+07  39           255           397.5         ]\n",
            "60 : [   3.38125e+07  21           255           397.5         ]\n",
            "61 : [   3.38125e+07  30           257.887       397.5         ]\n",
            "62 : [   3.38125e+07  30           252.113       397.5         ]\n",
            "63 : [   3.38125e+07  30           255           427.811       ]\n",
            "64 : [   3.38125e+07  30           255           367.189       ]\n",
            "65 : [   4.71057e+07  30           255           397.5         ]\n",
            "66 : [   2.05193e+07  30           255           397.5         ]\n",
            "67 : [   3.38125e+07  57           255           397.5         ]\n",
            "68 : [   3.38125e+07   3           255           397.5         ]\n",
            "69 : [   3.38125e+07  30           263.66        397.5         ]\n",
            "70 : [   3.38125e+07  30           246.34        397.5         ]\n",
            "71 : [   3.38125e+07  30           255           488.433       ]\n",
            "72 : [   3.38125e+07  30           255           306.567       ]\n"
          ],
          "name": "stdout"
        }
      ]
    },
    {
      "cell_type": "code",
      "metadata": {
        "id": "dw11R4PzfJsu",
        "colab_type": "code",
        "outputId": "ae7f1be4-66cd-4a9f-e956-fc7e49a7ebc4",
        "colab": {
          "base_uri": "https://localhost:8080/",
          "height": 106
        }
      },
      "source": [
        "# Get the number of points in the design of experiments\n",
        "pointNumber = inputSample.getSize()\n",
        "\n",
        "# Evaluate the ouput variable of interest on the design of experiments\n",
        "outputSample = deviation(inputSample)\n",
        "\n",
        "# Evaluate the range of the output variable of interest on that design of experiments\n",
        "minValue = outputSample.getMin()\n",
        "maxValue = outputSample.getMax()\n",
        "\n",
        "print( \"From a composite design of experiments of size = \", pointNumber)\n",
        "print( \"Levels = \", levels[0], \", \", levels[1], \", \", levels[2])\n",
        "print( \"Min Value = \", minValue[0])\n",
        "print( \"Max Value = \", maxValue[0])\n",
        "print( \"\")"
      ],
      "execution_count": 0,
      "outputs": [
        {
          "output_type": "stream",
          "text": [
            "('From a composite design of experiments of size = ', 73)\n",
            "('Levels = ', 0.5, ', ', 1.0, ', ', 3.0)\n",
            "('Min Value = ', 0.0006497179753649715)\n",
            "('Max Value = ', 0.05536051851305121)\n",
            "\n"
          ],
          "name": "stdout"
        }
      ]
    },
    {
      "cell_type": "code",
      "metadata": {
        "id": "iEiIScB2bIFq",
        "colab_type": "code",
        "outputId": "4db15370-72cb-48da-826a-b6c0a69e274b",
        "colab": {
          "base_uri": "https://localhost:8080/",
          "height": 142
        }
      },
      "source": [
        "###########################################################\n",
        "# Min/Max study by random sampling\n",
        "###########################################################\n",
        "\n",
        "print (\"#################################\")\n",
        "print (\" Min/Max study by random sampling\")\n",
        "print (\"#################################\")\n",
        "\n",
        "pointNumber = 10000\n",
        "print( \"From random sampling = \", pointNumber)\n",
        "outputSample2 = outputVariableOfInterest.getSample(pointNumber)\n",
        "\n",
        "minValue2 = outputSample2.getMin()\n",
        "maxValue2 = outputSample2.getMax()\n",
        "\n",
        "print( \"Min Value = \", minValue2[0])\n",
        "print( \"Max Value = \", maxValue2[0])\n",
        "print( \"\")\n"
      ],
      "execution_count": 0,
      "outputs": [
        {
          "output_type": "stream",
          "text": [
            "#################################\n",
            " Min/Max study by random sampling\n",
            "#################################\n",
            "('From random sampling = ', 10000)\n",
            "('Min Value = ', 0.004983164351500531)\n",
            "('Max Value = ', 0.05352042871427643)\n",
            "\n"
          ],
          "name": "stdout"
        }
      ]
    },
    {
      "cell_type": "code",
      "metadata": {
        "id": "7JOgfnTRaMFN",
        "colab_type": "code",
        "outputId": "2743c35e-7874-4c1c-a70d-366d65b41397",
        "colab": {
          "base_uri": "https://localhost:8080/",
          "height": 392
        }
      },
      "source": [
        "print (\"\")\n",
        "###############################################\n",
        "### Random Study : central tendance of\n",
        "### the output variable of interest\n",
        "###############################################\n",
        "\n",
        "print (\"###########################################\")\n",
        "print (\"Random Study : central tendance of\")\n",
        "print (\"the output variable of interest\")\n",
        "print (\"###########################################\")\n",
        "print (\"\")\n",
        "\n",
        "#####################################\n",
        "# Taylor variance decomposition\n",
        "#####################################\n",
        "\n",
        "print (\"##############################\")\n",
        "print (\"Taylor variance decomposition\")\n",
        "print (\"##############################\")\n",
        "print (\"\")\n",
        "\n",
        "# We create a quadraticCumul algorithm\n",
        "myQuadraticCumul = TaylorExpansionMoments(outputVariableOfInterest)\n",
        "\n",
        "# We compute the several elements provided by the quadratic cumul algorithm\n",
        "# and evaluate the number of calculus needed\n",
        "nbBefr = deviation.getEvaluationCallsNumber()\n",
        "\n",
        "# Mean first order\n",
        "meanFirstOrder = myQuadraticCumul.getMeanFirstOrder()[0]\n",
        "nbAfter1 = deviation.getEvaluationCallsNumber()\n",
        "\n",
        "# Mean second order\n",
        "meanSecondOrder = myQuadraticCumul.getMeanSecondOrder()[0]\n",
        "nbAfter2 = deviation.getEvaluationCallsNumber()\n",
        "\n",
        "# Standard deviation\n",
        "stdDeviation = sqrt(myQuadraticCumul.getCovariance()[0,0])\n",
        "nbAfter3 = deviation.getEvaluationCallsNumber()\n",
        "\n",
        "print( \"First order mean=\", myQuadraticCumul.getMeanFirstOrder()[0])\n",
        "print( \"Evaluation calls number = \", nbAfter1 - nbBefr)\n",
        "print( \"Second order mean=\", myQuadraticCumul.getMeanSecondOrder()[0])\n",
        "print( \"Evaluation calls number = \", nbAfter2 - nbAfter1)\n",
        "print( \"Standard deviation=\", sqrt(myQuadraticCumul.getCovariance()[0,0]))\n",
        "print( \"Evaluation calls number = \", nbAfter3 - nbAfter2)\n",
        "\n",
        "print(  \"Importance factors=\")\n",
        "for i in range(inputRandomVector.getDimension()) :\n",
        "  print( inputDistribution.getDescription()[i], \" = \", myQuadraticCumul.getImportanceFactors()[i])\n"
      ],
      "execution_count": 0,
      "outputs": [
        {
          "output_type": "stream",
          "text": [
            "\n",
            "###########################################\n",
            "Random Study : central tendance of\n",
            "the output variable of interest\n",
            "###########################################\n",
            "\n",
            "##############################\n",
            "Taylor variance decomposition\n",
            "##############################\n",
            "\n",
            "('First order mean=', 0.012336902312279845)\n",
            "('Evaluation calls number = ', 1)\n",
            "('Second order mean=', 0.012419791630854191)\n",
            "('Evaluation calls number = ', 33)\n",
            "('Standard deviation=', 0.004186990093164967)\n",
            "('Evaluation calls number = ', 8)\n",
            "Importance factors=\n",
            "('E', ' = ', 0.1491286985501715)\n",
            "('F', ' = ', 0.7813594955948573)\n",
            "('L', ' = ', 0.014521987227544256)\n",
            "('I', ' = ', 0.05498981862742723)\n"
          ],
          "name": "stdout"
        }
      ]
    },
    {
      "cell_type": "code",
      "metadata": {
        "id": "HK8VwhxgaJuv",
        "colab_type": "code",
        "outputId": "9adf8ce6-55e7-4adf-8429-5601e0020260",
        "colab": {
          "base_uri": "https://localhost:8080/",
          "height": 142
        }
      },
      "source": [
        "#############################\n",
        "# Random sampling\n",
        "#############################\n",
        "\n",
        "print (\"#######################\")\n",
        "print (\"Random sampling\")\n",
        "print (\"#######################\")\n",
        "\n",
        "size1 = 10000\n",
        "output_Sample1 = outputVariableOfInterest.getSample(size1)\n",
        "outputMean = output_Sample1.computeMean()\n",
        "outputCovariance = output_Sample1.computeCovariance()\n",
        "\n",
        "print (\"Sample size = \", size1)\n",
        "print (\"Mean from sample = \", outputMean[0])\n",
        "print (\"Standard deviation from sample = \", sqrt(outputCovariance[0,0]))\n",
        "print (\"\")\n"
      ],
      "execution_count": 0,
      "outputs": [
        {
          "output_type": "stream",
          "text": [
            "#######################\n",
            "Random sampling\n",
            "#######################\n",
            "('Sample size = ', 10000)\n",
            "('Mean from sample = ', 0.012538440681554486)\n",
            "('Standard deviation from sample = ', 0.00417296683389828)\n",
            "\n"
          ],
          "name": "stdout"
        }
      ]
    },
    {
      "cell_type": "code",
      "metadata": {
        "id": "gT38lD8KhGzJ",
        "colab_type": "code",
        "outputId": "ccd561e8-c3d2-49db-9f4e-c9daf7c0bfbd",
        "colab": {
          "base_uri": "https://localhost:8080/",
          "height": 1219
        }
      },
      "source": [
        "##########################\n",
        "# Kernel Smoothing Fitting\n",
        "##########################\n",
        "\n",
        "\n",
        "print (\"##########################\")\n",
        "print (\"# Kernel Smoothing Fitting\")\n",
        "print (\"##########################\")\n",
        "\n",
        "# We generate a sample of the output variable\n",
        "size = 10000\n",
        "output_sample = outputVariableOfInterest.getSample(size)\n",
        "\n",
        "# We build the kernel smoothing distribution\n",
        "kernel = KernelSmoothing()\n",
        "bw = kernel.computeSilvermanBandwidth(output_sample)\n",
        "smoothed = kernel.build(output_sample, bw)\n",
        "print (\"Sample size = \", size)\n",
        "print ( \"Kernel bandwidth=\" , kernel.getBandwidth()[0])\n",
        "\n",
        "# We draw the pdf and cdf from kernel smoothing\n",
        "# Evaluate at best the range of the graph\n",
        "mean_sample = output_sample.computeMean()[0]\n",
        "standardDeviation_sample = sqrt(output_sample.computeCovariance()[0,0])\n",
        "xmin = mean_sample - 4*standardDeviation_sample\n",
        "xmax = mean_sample + 4*standardDeviation_sample\n",
        "\n",
        "# Draw the PDF\n",
        "smoothedPDF = smoothed.drawPDF(xmin, xmax, 251)\n",
        "# Change the title\n",
        "smoothedPDF.setTitle(\"Kernel smoothing of the deviation - PDF\")\n",
        "# Change the legend\n",
        "smoothedPDF_draw = smoothedPDF.getDrawable(0)\n",
        "title = \"PDF from Normal kernel (\" + str(size) + \" data)\"\n",
        "smoothedPDF_draw.setLegend(title)\n",
        "#smoothedPDF.setDrawable(smoothedPDF_draw,0)\n",
        "#smoothedPDF.draw(\"smoothedPDF\", 640, 480)\n",
        "#View(smoothedPDF).save('smoothedPDF_pdf_R.png')\n",
        "View(smoothedPDF).show()\n",
        "\n",
        "# Draw the CDF\n",
        "smoothedCDF = smoothed.drawCDF(xmin, xmax, 251)\n",
        "# Change the title\n",
        "smoothedCDF.setTitle(\"Kernel smoothing of the deviation - CDF\")\n",
        "# Change the legend\n",
        "smoothedCDF_draw = smoothedCDF.getDrawable(0)\n",
        "title = \"CDF from Normal kernel (\" + str(size) + \" data)\"\n",
        "smoothedCDF_draw.setLegend(title)\n",
        "smoothedCDF.setDrawable(smoothedCDF_draw,0)\n",
        "# Change the legend position\n",
        "smoothedCDF.setLegendPosition(\"bottomright\")\n",
        "#smoothedCDF.draw(\"smoothedCDF\", 640, 480)\n",
        "View(smoothedCDF).show()\n",
        "\n",
        "# In order to see the graph whithout creating the associated files\n",
        "#View(smoothedCDF).show()\n",
        "#View(smoothedPDF).show()\n",
        "\n",
        "# Mean of the output variable of interest\n",
        "print (\"Mean from kernel smoothing = \", smoothed.getMean()[0])\n",
        "print (\"\")\n",
        "\n",
        "# Superposition of the kernel smoothing pdf and the gaussian one\n",
        "# which mean and standard deviation are those of the output_sample\n",
        "normalDist = NormalFactory().build(output_sample)\n",
        "normalDistPDF = normalDist.drawPDF(xmin, xmax, 251)\n",
        "normalDistPDFDrawable = normalDistPDF.getDrawable(0)\n",
        "normalDistPDFDrawable.setColor('blue')\n",
        "smoothedPDF.add(normalDistPDFDrawable)\n",
        "#smoothedPDF.draw(\"smoothedPDF_and_NormalPDF\", 640, 480)\n",
        "\n",
        "# In order to see the graph whithout creating the associated files\n",
        "View(smoothedPDF).show()\n"
      ],
      "execution_count": 0,
      "outputs": [
        {
          "output_type": "stream",
          "text": [
            "##########################\n",
            "# Kernel Smoothing Fitting\n",
            "##########################\n",
            "('Sample size = ', 10000)\n",
            "('Kernel bandwidth=', 0.0005603700355503525)\n",
            "('Mean from kernel smoothing = ', 0.01258816363626203)\n",
            "\n"
          ],
          "name": "stdout"
        },
        {
          "output_type": "display_data",
          "data": {
            "image/png": "[encoded data removed]",
            "text/plain": [
              "<matplotlib.figure.Figure at 0x7f8393852750>"
            ]
          },
          "metadata": {
            "tags": []
          }
        },
        {
          "output_type": "display_data",
          "data": {
            "image/png": "[encoded data removed]",
            "text/plain": [
              "<matplotlib.figure.Figure at 0x7f83937aa690>"
            ]
          },
          "metadata": {
            "tags": []
          }
        },
        {
          "output_type": "display_data",
          "data": {
            "image/png": "[encoded data removed]",
            "text/plain": [
              "<matplotlib.figure.Figure at 0x7f8393806350>"
            ]
          },
          "metadata": {
            "tags": []
          }
        }
      ]
    },
    {
      "cell_type": "code",
      "metadata": {
        "id": "mtAGDQY1hG2I",
        "colab_type": "code",
        "outputId": "7ffb13c6-6e07-4b50-82ff-dbfd222f955a",
        "colab": {
          "base_uri": "https://localhost:8080/",
          "height": 845
        }
      },
      "source": [
        "#################################################################\n",
        "### Probabilistic Study : threshold exceedance: deviation > 30cm\n",
        "#################################################################\n",
        "\n",
        "print (\"\")\n",
        "print (\"############################################################\")\n",
        "print (\"Probabilistic Study : threshold exceedance: deviation <-1cm\")\n",
        "print (\"############################################################\")\n",
        "print (\"\")\n",
        "\n",
        "######\n",
        "# FORM\n",
        "######\n",
        "\n",
        "print (\"#####\")\n",
        "print (\"FORM\")\n",
        "print (\"#####\")\n",
        "\n",
        "# We create an Event from this RandomVector\n",
        "# threshold has been defined in the kernel smoothing section\n",
        "threshold = 30\n",
        "myEvent = Event(outputVariableOfInterest, Greater(), threshold)\n",
        "myEvent.setName(\"Deviation > 30 cm\")\n",
        "\n",
        "# We create a NearestPoint algorithm\n",
        "myCobyla = Cobyla()\n",
        "myCobyla.setMaximumIterationNumber(1000)\n",
        "myCobyla.setMaximumAbsoluteError(1.0e-10)\n",
        "myCobyla.setMaximumRelativeError(1.0e-10)\n",
        "myCobyla.setMaximumResidualError(1.0e-10)\n",
        "myCobyla.setMaximumConstraintError(1.0e-10)\n",
        "\n",
        "# We create a FORM algorithm\n",
        "# The first parameter is a NearestPointAlgorithm\n",
        "# The second parameter is an event\n",
        "# The third parameter is a starting point for the design point research\n",
        "meanVector = inputRandomVector.getMean()\n",
        "myAlgoFORM = FORM(myCobyla, myEvent, meanVector)\n",
        "\n",
        "# Get the number of times the limit state function has been evaluated so far\n",
        "deviationCallNumberBeforeFORM = deviation.getEvaluationCallsNumber()\n",
        "\n",
        "# Perform the simulation\n",
        "myAlgoFORM.run()\n",
        "\n",
        "# Get the number of times the limit state function has been evaluated so far\n",
        "deviationCallNumberAfterFORM = deviation.getEvaluationCallsNumber()\n",
        "\n",
        "# Stream out the result\n",
        "resultFORM = myAlgoFORM.getResult()\n",
        "print ( \"FORM event probability=\" , resultFORM.getEventProbability())\n",
        "print (\"Number of evaluations of the limit state function = \", deviationCallNumberAfterFORM - deviationCallNumberBeforeFORM)\n",
        "print ( \"Generalized reliability index=\" , resultFORM.getGeneralisedReliabilityIndex())\n",
        "print ( \"Standard space design point=\")\n",
        "for i in range(inputRandomVector.getDimension()) :\n",
        "  print (inputDistribution.getDescription()[i], \" = \", resultFORM.getStandardSpaceDesignPoint()[i])\n",
        "print ( \"Physical space design point=\")\n",
        "for i in range(inputRandomVector.getDimension()) :\n",
        "  print (inputDistribution.getDescription()[i], \" = \", resultFORM.getPhysicalSpaceDesignPoint()[i])\n",
        "\n",
        "print ( \"Importance factors=\")\n",
        "for i in range(inputRandomVector.getDimension()) :\n",
        "  print (inputDistribution.getDescription()[i], \" = \", resultFORM.getImportanceFactors()[i])\n",
        "\n",
        "print ( \"Hasofer reliability index=\" , resultFORM.getHasoferReliabilityIndex())\n",
        "print (\"\")\n",
        "\n",
        "# Graph 1 : Importance Factors graph */\n",
        "importanceFactorsGraph = resultFORM.drawImportanceFactors()\n",
        "title = \"FORM Importance factors - \"+ myEvent.getName()\n",
        "importanceFactorsGraph.setTitle( title)\n",
        "#importanceFactorsGraph.draw(\"ImportanceFactorsDrawingFORM\", 640, 480)\n",
        "\n",
        "# In order to see the graph whithout creating the associated files\n",
        "View(importanceFactorsGraph).show()"
      ],
      "execution_count": 0,
      "outputs": [
        {
          "output_type": "stream",
          "text": [
            "\n",
            "############################################################\n",
            "Probabilistic Study : threshold exceedance: deviation <-1cm\n",
            "############################################################\n",
            "\n",
            "#####\n",
            "FORM\n",
            "#####\n",
            "('FORM event probability=', 1.2082248223724607e-14)\n",
            "('Number of evaluations of the limit state function = ', 109)\n",
            "('Generalized reliability index=', 7.626269196812093)\n",
            "Standard space design point=\n",
            "('E', ' = ', -1.5409131748473421)\n",
            "('F', ' = ', 7.279901787925148)\n",
            "('L', ' = ', 0.23971584423582645)\n",
            "('I', ' = ', -1.652614511013801)\n",
            "Physical space design point=\n",
            "('E', ' = ', 28440064.34369854)\n",
            "('F', ' = ', 743.587876661192)\n",
            "('L', ' = ', 255.94724724447966)\n",
            "('I', ' = ', 342.37206850889515)\n",
            "Importance factors=\n",
            "('E', ' = ', 0.040793454647213054)\n",
            "('F', ' = ', 0.9105219144530591)\n",
            "('L', ' = ', 0.000987251106118646)\n",
            "('I', ' = ', 0.047697379793609176)\n",
            "('Hasofer reliability index=', 7.626269196812092)\n",
            "\n"
          ],
          "name": "stdout"
        },
        {
          "output_type": "display_data",
          "data": {
            "image/png": "[encoded data removed]",
            "text/plain": [
              "<matplotlib.figure.Figure at 0x7f8393538a10>"
            ]
          },
          "metadata": {
            "tags": []
          }
        }
      ]
    },
    {
      "cell_type": "code",
      "metadata": {
        "id": "4wblyRX1lE8m",
        "colab_type": "code",
        "outputId": "e13878ff-49ac-40ed-e1d1-5b18b78f374a",
        "colab": {
          "base_uri": "https://localhost:8080/",
          "height": 537
        }
      },
      "source": [
        "######\n",
        "# MC\n",
        "######\n",
        "\n",
        "print (\"############\")\n",
        "print (\"Monte Carlo\")\n",
        "print (\"############\")\n",
        "print (\"\")\n",
        "\n",
        "\n",
        "maximumOuterSampling = 40000\n",
        "blockSize = 100\n",
        "coefficientOfVariation = 0.10\n",
        "\n",
        "# We create a Monte Carlo algorithm\n",
        "myAlgoMonteCarlo = MonteCarlo(myEvent)\n",
        "myAlgoMonteCarlo.setMaximumOuterSampling(maximumOuterSampling)\n",
        "myAlgoMonteCarlo.setBlockSize(blockSize)\n",
        "myAlgoMonteCarlo.setMaximumCoefficientOfVariation(coefficientOfVariation)\n",
        "\n",
        "# Define the HistoryStrategy to store the values of the probability estimator\n",
        "# and the variance estimator\n",
        "# used ot draw the convergence graph\n",
        "# Full strategy\n",
        "myAlgoMonteCarlo.setConvergenceStrategy(Full())\n",
        "\n",
        "# Perform the simulation\n",
        "myAlgoMonteCarlo.run()\n",
        "\n",
        "# Display number of iterations and number of evaluations\n",
        "# of the limit state function\n",
        "print (\"Number of evaluations of the limit state function = \", myAlgoMonteCarlo.getResult().getOuterSampling()* myAlgoMonteCarlo.getResult().getBlockSize())\n",
        "\n",
        "# Display the Monte Carlo probability of 'myEvent'\n",
        "print (\"Monte Carlo probability estimation = \", myAlgoMonteCarlo.getResult().getProbabilityEstimate())\n",
        "\n",
        "# Display the variance of the Monte Carlo probability estimator\n",
        "print (\"Variance of the Monte Carlo probability estimator = \", myAlgoMonteCarlo.getResult().getVarianceEstimate())\n",
        "\n",
        "# Display the confidence interval length centered around\n",
        "# the MonteCarlo probability MCProb\n",
        "# IC = [MCProb - 0.5*length, MCProb + 0.5*length]\n",
        "# level 0.95\n",
        "\n",
        "print (\"0.95 Confidence Interval = [\", myAlgoMonteCarlo.getResult().getProbabilityEstimate() - 0.5*myAlgoMonteCarlo.getResult().getConfidenceLength(0.95), \", \", myAlgoMonteCarlo.getResult().getProbabilityEstimate() + 0.5*myAlgoMonteCarlo.getResult().getConfidenceLength(0.95), \"]\")\n",
        "print (\"\")\n",
        "\n",
        "# Draw the convergence graph and the confidence intervalle of level alpha\n",
        "alpha = 0.90\n",
        "convergenceGraphMonteCarlo = myAlgoMonteCarlo.drawProbabilityConvergence(alpha)\n",
        "# In order to see the graph whithout creating the associated files\n",
        "View(convergenceGraphMonteCarlo).show()\n",
        "\n",
        "# Create the file .EPS\n",
        "#convergenceGraphMonteCarlo.draw(\"convergenceGrapheMonteCarlo\", 640, 480)\n",
        "#View(convergenceGraphMonteCarlo).show()\n"
      ],
      "execution_count": 0,
      "outputs": [
        {
          "output_type": "stream",
          "text": [
            "############\n",
            "Monte Carlo\n",
            "############\n",
            "\n",
            "('Number of evaluations of the limit state function = ', 4000000)\n",
            "('Monte Carlo probability estimation = ', 0.0)\n",
            "('Variance of the Monte Carlo probability estimator = ', 0.0)\n",
            "('0.95 Confidence Interval = [', 0.0, ', ', 0.0, ']')\n",
            "\n"
          ],
          "name": "stdout"
        },
        {
          "output_type": "display_data",
          "data": {
            "image/png": "[encoded data removed]",
            "text/plain": [
              "<matplotlib.figure.Figure at 0x7f839359af50>"
            ]
          },
          "metadata": {
            "tags": []
          }
        }
      ]
    },
    {
      "cell_type": "code",
      "metadata": {
        "id": "jvpyvEwslFFQ",
        "colab_type": "code",
        "colab": {}
      },
      "source": [
        "\n",
        "\n",
        "########################\n",
        "# Directional Sampling\n",
        "########################\n",
        "\n",
        "print (\"#######################\")\n",
        "print (\"Directional Sampling\")\n",
        "print (\"#######################\")\n",
        "print (\" \")\n",
        "\n",
        "# Directional sampling from an event (slow and safe strategy by default)\n",
        "\n",
        "# We create a Directional Sampling algorithm */\n",
        "myAlgoDirectionalSim = DirectionalSampling(myEvent)\n",
        "myAlgoDirectionalSim.setMaximumOuterSampling(maximumOuterSampling * blockSize)\n",
        "myAlgoDirectionalSim.setBlockSize(1)\n",
        "myAlgoDirectionalSim.setMaximumCoefficientOfVariation(coefficientOfVariation)\n",
        "\n",
        "# Define the HistoryStrategy to store the values of the probability estimator\n",
        "# and the variance estimator\n",
        "# used ot draw the convergence graph\n",
        "# Full strategy\n",
        "myAlgoDirectionalSim.setConvergenceStrategy(Full())\n",
        "\n",
        "# Save the number of calls to the limit state fucntion, its gradient and hessian already done\n",
        "deviationCallNumberBefore = deviation.getEvaluationCallsNumber()\n",
        "deviationGradientCallNumberBefore = deviation.getGradientCallsNumber()\n",
        "deviationHessianCallNumberBefore = deviation.getHessianCallsNumber()\n",
        "\n",
        "# Perform the simulation */\n",
        "myAlgoDirectionalSim.run()\n",
        "\n",
        "# Save the number of calls to the limit state fucntion, its gradient and hessian already done\n",
        "deviationCallNumberAfter = deviation.getEvaluationCallsNumber()\n",
        "deviationGradientCallNumberAfter = deviation.getGradientCallsNumber()\n",
        "deviationHessianCallNumberAfter = deviation.getHessianCallsNumber()\n",
        "\n",
        "# Display number of iterations and number of evaluations\n",
        "# of the limit state function\n",
        "print (\"Number of evaluations of the limit state function = \", deviationCallNumberAfter - deviationCallNumberBefore)\n",
        "\n",
        "# Display the Directional Simumation probability of 'myEvent'\n",
        "print (\"Directional Sampling probability estimation = \", myAlgoDirectionalSim.getResult().getProbabilityEstimate())\n",
        "\n",
        "# Display the variance of the Directional Simumation probability estimator\n",
        "print (\"Variance of the Directional Sampling probability estimator = \", myAlgoDirectionalSim.getResult().getVarianceEstimate())\n",
        "\n",
        "# Display the confidence interval length centered around\n",
        "# the Directional Simumation probability DSProb\n",
        "# IC = [DSProb - 0.5*length, DSProb + 0.5*length]\n",
        "# level 0.95\n",
        "print (\"0.95 Confidence Interval = [\", myAlgoDirectionalSim.getResult().getProbabilityEstimate() - 0.5*myAlgoDirectionalSim.getResult().getConfidenceLength(0.95), \", \", myAlgoDirectionalSim.getResult().getProbabilityEstimate() + 0.5*myAlgoDirectionalSim.getResult().getConfidenceLength(0.95), \"]\")\n",
        "print (\"\")\n",
        "\n",
        "\n",
        "# Draw the convergence graph and the confidence intervalle of level alpha\n",
        "alpha = 0.90\n",
        "convergenceGraphDS = myAlgoDirectionalSim.drawProbabilityConvergence(alpha)\n",
        "# In order to see the graph whithout creating the associated files\n",
        "#View(convergenceGraphDS).show()\n",
        "\n",
        "# Create the file .EPS\n",
        "#convergenceGraphDS.draw(\"convergenceGrapheDS\", 640, 480)\n",
        "View(convergenceGraphDS).show()"
      ],
      "execution_count": 0,
      "outputs": []
    },
    {
      "cell_type": "code",
      "metadata": {
        "id": "3zmmxqVClFNE",
        "colab_type": "code",
        "colab": {}
      },
      "source": [
        "#####################\n",
        "# Importance Sampling\n",
        "#####################\n",
        "\n",
        "\n",
        "print (\"####################\")\n",
        "print (\"Importance Sampling\")\n",
        "print (\"####################\")\n",
        "print (\"\")\n",
        "\n",
        "maximumOuterSampling = 40000\n",
        "blockSize = 1\n",
        "standardSpaceDesignPoint = resultFORM.getStandardSpaceDesignPoint()\n",
        "mean = standardSpaceDesignPoint\n",
        "sigma = NumericalPoint(4, 1.0)\n",
        "importanceDistribution = Normal(mean, sigma, CorrelationMatrix(4))\n",
        "\n",
        "myStandardEvent = StandardEvent(myEvent)\n",
        "\n",
        "myAlgoImportanceSampling = ImportanceSampling(myStandardEvent, importanceDistribution)\n",
        "myAlgoImportanceSampling.setMaximumOuterSampling(maximumOuterSampling)\n",
        "myAlgoImportanceSampling.setBlockSize(blockSize)\n",
        "myAlgoImportanceSampling.setMaximumCoefficientOfVariation(coefficientOfVariation)\n",
        "\n",
        "# Define the HistoryStrategy to store the values of the probability estimator\n",
        "# and the variance estimator\n",
        "# used ot draw the convergence graph\n",
        "# Full strategy\n",
        "myAlgoImportanceSampling.setConvergenceStrategy(Full())\n",
        "\n",
        "# Perform the simulation\n",
        "myAlgoImportanceSampling.run()\n",
        "\n",
        "# Display number of iterations and number of evaluations\n",
        "# of the limit state function\n",
        "print (\"Number of evaluations of the limit state function = \", myAlgoImportanceSampling.getResult().getOuterSampling()* myAlgoImportanceSampling.getResult().getBlockSize())\n",
        "\n",
        "# Display the Importance Sampling probability of 'myEvent'\n",
        "print (\"Importance Sampling probability estimation = \", myAlgoImportanceSampling.getResult().getProbabilityEstimate())\n",
        "\n",
        "# Display the variance of the Importance Sampling probability estimator\n",
        "print (\"Variance of the Importance Sampling probability estimator = \", myAlgoImportanceSampling.getResult().getVarianceEstimate())\n",
        "\n",
        "# Display the confidence interval length centered around\n",
        "# the ImportanceSampling probability ISProb\n",
        "# IC = [ISProb - 0.5*length, ISProb + 0.5*length]\n",
        "# level 0.95\n",
        "print (\"0.95 Confidence Interval = [\", myAlgoImportanceSampling.getResult().getProbabilityEstimate() - 0.5*myAlgoImportanceSampling.getResult().getConfidenceLength(0.95), \", \", myAlgoImportanceSampling.getResult().getProbabilityEstimate() + 0.5*myAlgoImportanceSampling.getResult().getConfidenceLength(0.95), \"]\")\n",
        "\n",
        "# Draw the convergence graph and the confidence intervalle of level alpha\n",
        "alpha = 0.90\n",
        "convergenceGraphIS = myAlgoImportanceSampling.drawProbabilityConvergence(alpha)\n",
        "# In order to see the graph whithout creating the associated files\n",
        "#View(convergenceGraphIS).show()\n",
        "\n",
        "# Create the file .EPS\n",
        "#convergenceGraphIS.draw(\"convergenceGrapheIS\", 640, 480)\n",
        "View(convergenceGraphIS).show()"
      ],
      "execution_count": 0,
      "outputs": []
    }
  ]
}