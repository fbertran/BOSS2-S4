{
  "nbformat": 4,
  "nbformat_minor": 0,
  "metadata": {
    "colab": {
      "name": "Untitled10.ipynb",
      "provenance": [],
      "collapsed_sections": [],
      "authorship_tag": "ABX9TyMdWWHx3Q/TG0Xx1bnrA4ac",
      "include_colab_link": true
    },
    "kernelspec": {
      "name": "python3",
      "display_name": "Python 3"
    },
    "language_info": {
      "name": "python"
    }
  },
  "cells": [
    {
      "cell_type": "markdown",
      "metadata": {
        "id": "view-in-github",
        "colab_type": "text"
      },
      "source": [
        "<a href=\"https://colab.research.google.com/github/fbertran/BOSS2-S4/blob/main/StressedBeam.ipynb\" target=\"_parent\"><img src=\"https://colab.research.google.com/assets/colab-badge.svg\" alt=\"Open In Colab\"/></a>"
      ]
    },
    {
      "cell_type": "code",
      "execution_count": 108,
      "metadata": {
        "colab": {
          "base_uri": "https://localhost:8080/"
        },
        "id": "A_xIrc6ziCQ2",
        "outputId": "95f547c4-05e7-42a7-d15d-79188d9fbfbf"
      },
      "outputs": [
        {
          "output_type": "stream",
          "name": "stdout",
          "text": [
            "Looking in indexes: https://pypi.org/simple, https://us-python.pkg.dev/colab-wheels/public/simple/\n",
            "Requirement already satisfied: openturns in /usr/local/lib/python3.7/dist-packages (1.19.post1)\n",
            "Requirement already satisfied: psutil in /usr/local/lib/python3.7/dist-packages (from openturns) (5.4.8)\n",
            "Requirement already satisfied: dill in /usr/local/lib/python3.7/dist-packages (from openturns) (0.3.5.1)\n"
          ]
        }
      ],
      "source": [
        "!pip install openturns"
      ]
    },
    {
      "cell_type": "code",
      "source": [
        "import numpy as np\n",
        "from openturns.usecases import stressed_beam\n",
        "\n",
        "import openturns as ot\n",
        "import openturns.viewer as viewer\n",
        "from matplotlib import pylab as plt\n",
        "ot.Log.Show(ot.Log.NONE)"
      ],
      "metadata": {
        "id": "VDfPyNvAiMg9"
      },
      "execution_count": 109,
      "outputs": []
    },
    {
      "cell_type": "code",
      "source": [
        "# dimension\n",
        "dim = 2"
      ],
      "metadata": {
        "id": "yK17gi8xmrjV"
      },
      "execution_count": 110,
      "outputs": []
    },
    {
      "cell_type": "code",
      "source": [
        "sm = stressed_beam.AxialStressedBeam()"
      ],
      "metadata": {
        "id": "UoqYQkiajgvu"
      },
      "execution_count": 111,
      "outputs": []
    },
    {
      "cell_type": "markdown",
      "source": [
        "D=0.02 (m)"
      ],
      "metadata": {
        "id": "pg_-a34CjmNO"
      }
    },
    {
      "cell_type": "code",
      "source": [
        "1/((0.02)**2/4)"
      ],
      "metadata": {
        "colab": {
          "base_uri": "https://localhost:8080/"
        },
        "id": "BDrzI6-nmcnZ",
        "outputId": "d7333862-0a04-48e5-d462-7fb55525f2ea"
      },
      "execution_count": 112,
      "outputs": [
        {
          "output_type": "execute_result",
          "data": {
            "text/plain": [
              "10000.0"
            ]
          },
          "metadata": {},
          "execution_count": 112
        }
      ]
    },
    {
      "cell_type": "code",
      "source": [
        "print(sm.model)"
      ],
      "metadata": {
        "colab": {
          "base_uri": "https://localhost:8080/"
        },
        "id": "DdR1NjUzjmwY",
        "outputId": "b01dd71e-e239-41c7-9f3b-123264b37e3f"
      },
      "execution_count": 113,
      "outputs": [
        {
          "output_type": "stream",
          "name": "stdout",
          "text": [
            "[R,F]->[R-F/(pi_/10000.0)]\n"
          ]
        }
      ]
    },
    {
      "cell_type": "code",
      "source": [
        "# Analytical model definition:\n",
        "limitState = ot.SymbolicFunction(['R', 'F'], ['R-F/(pi_/10000.0)'])\n",
        "print(limitState)"
      ],
      "metadata": {
        "colab": {
          "base_uri": "https://localhost:8080/"
        },
        "id": "RhNY6dfWmO-V",
        "outputId": "3c76b600-0814-4d5c-d6ac-0f61105f8025"
      },
      "execution_count": 114,
      "outputs": [
        {
          "output_type": "stream",
          "name": "stdout",
          "text": [
            "[R,F]->[R-F/(pi_/10000.0)]\n"
          ]
        }
      ]
    },
    {
      "cell_type": "code",
      "source": [
        "limitStateFunction = limitState"
      ],
      "metadata": {
        "id": "l9B_x3SJkKDC"
      },
      "execution_count": 115,
      "outputs": []
    },
    {
      "cell_type": "code",
      "source": [
        "# Test of the limit state function:\n",
        "x = [3000000., 750.]\n",
        "print('x=', x)\n",
        "print('G(x)=', limitState(x))"
      ],
      "metadata": {
        "colab": {
          "base_uri": "https://localhost:8080/"
        },
        "id": "b1pfx7Vamwq6",
        "outputId": "02b52653-ea7e-47d2-9c49-67b4abd3d404"
      },
      "execution_count": 116,
      "outputs": [
        {
          "output_type": "stream",
          "name": "stdout",
          "text": [
            "x= [3000000.0, 750.0]\n",
            "G(x)= [612676]\n"
          ]
        }
      ]
    },
    {
      "cell_type": "code",
      "source": [
        "# Stochastic model definition\n",
        "\n",
        "# Create a first marginal : LogNormal distribution 1D, parameterized by\n",
        "# its mean and standard deviation\n",
        "R_dist = ot.LogNormalMuSigma(3e6, 3e5, 0.).getDistribution()\n",
        "R_dist.setName('Yield strength')\n",
        "R_dist.setDescription('R')\n",
        "print(R_dist)\n",
        "# Graphical output of the PDF\n",
        "R_dist.drawPDF()"
      ],
      "metadata": {
        "colab": {
          "base_uri": "https://localhost:8080/",
          "height": 434
        },
        "id": "tX9ezgVIkUz8",
        "outputId": "73c5d7df-8a25-4a5e-b52d-f2def93fb1c7"
      },
      "execution_count": 117,
      "outputs": [
        {
          "output_type": "stream",
          "name": "stdout",
          "text": [
            "LogNormal(muLog = 14.9091, sigmaLog = 0.0997513, gamma = 0)\n"
          ]
        },
        {
          "output_type": "execute_result",
          "data": {
            "text/plain": [
              "class=Graph name=pdf as a function of R implementation=class=GraphImplementation name=pdf as a function of R title= xTitle=R yTitle=PDF axes=ON grid=ON legendposition=topright legendFontSize=1 drawables=[class=Drawable name=Unnamed implementation=class=Curve name=Unnamed derived from class=DrawableImplementation name=Unnamed legend=R PDF data=class=Sample name=Unnamed implementation=class=SampleImplementation name=Unnamed size=129 dimension=2 data=[[1.88808e+06,5.58066e-11],[1.90547e+06,8.39811e-11],[1.92286e+06,1.24866e-10],[1.94025e+06,1.83487e-10],[1.95764e+06,2.66552e-10],[1.97503e+06,3.82908e-10],[1.99242e+06,5.44075e-10],[2.00981e+06,7.64868e-10],[2.0272e+06,1.06411e-09],[2.04459e+06,1.46542e-09],[2.06198e+06,1.9981e-09],[2.07937e+06,2.69804e-09],[2.09676e+06,3.60872e-09],[2.11415e+06,4.78217e-09],[2.13154e+06,6.27992e-09],[2.14894e+06,8.17387e-09],[2.16633e+06,1.05471e-08],[2.18372e+06,1.34943e-08],[2.20111e+06,1.71222e-08],[2.2185e+06,2.15498e-08],[2.23589e+06,2.69076e-08],[2.25328e+06,3.33372e-08],[2.27067e+06,4.09901e-08],[2.28806e+06,5.00256e-08],[2.30545e+06,6.06093e-08],[2.32284e+06,7.29097e-08],[2.34023e+06,8.70955e-08],[2.35762e+06,1.03332e-07],[2.37501e+06,1.21775e-07],[2.39241e+06,1.42571e-07],[2.4098e+06,1.65848e-07],[2.42719e+06,1.91714e-07],[2.44458e+06,2.20249e-07],[2.46197e+06,2.51504e-07],[2.47936e+06,2.85497e-07],[2.49675e+06,3.22205e-07],[2.51414e+06,3.61568e-07],[2.53153e+06,4.03478e-07],[2.54892e+06,4.47787e-07],[2.56631e+06,4.94299e-07],[2.5837e+06,5.42777e-07],[2.60109e+06,5.92938e-07],[2.61848e+06,6.44462e-07],[2.63587e+06,6.9699e-07],[2.65327e+06,7.50133e-07],[2.67066e+06,8.03475e-07],[2.68805e+06,8.56581e-07],[2.70544e+06,9.09e-07],[2.72283e+06,9.60277e-07],[2.74022e+06,1.00996e-06],[2.75761e+06,1.05759e-06],[2.775e+06,1.10275e-06],[2.79239e+06,1.14502e-06],[2.80978e+06,1.18402e-06],[2.82717e+06,1.21941e-06],[2.84456e+06,1.25088e-06],[2.86195e+06,1.27817e-06],[2.87934e+06,1.30106e-06],[2.89673e+06,1.31939e-06],[2.91413e+06,1.33304e-06],[2.93152e+06,1.34195e-06],[2.94891e+06,1.34611e-06],[2.9663e+06,1.34556e-06],[2.98369e+06,1.3404e-06],[3.00108e+06,1.33074e-06],[3.01847e+06,1.31677e-06],[3.03586e+06,1.2987e-06],[3.05325e+06,1.27677e-06],[3.07064e+06,1.25126e-06],[3.08803e+06,1.22246e-06],[3.10542e+06,1.19069e-06],[3.12281e+06,1.15628e-06],[3.1402e+06,1.11956e-06],[3.1576e+06,1.08087e-06],[3.17499e+06,1.04055e-06],[3.19238e+06,9.98934e-07],[3.20977e+06,9.56348e-07],[3.22716e+06,9.13102e-07],[3.24455e+06,8.69494e-07],[3.26194e+06,8.25804e-07],[3.27933e+06,7.82292e-07],[3.29672e+06,7.39198e-07],[3.31411e+06,6.96741e-07],[3.3315e+06,6.55114e-07],[3.34889e+06,6.14492e-07],[3.36628e+06,5.75023e-07],[3.38367e+06,5.36835e-07],[3.40106e+06,5.00034e-07],[3.41846e+06,4.64705e-07],[3.43585e+06,4.30913e-07],[3.45324e+06,3.98706e-07],[3.47063e+06,3.68113e-07],[3.48802e+06,3.39148e-07],[3.50541e+06,3.11811e-07],[3.5228e+06,2.86091e-07],[3.54019e+06,2.61962e-07],[3.55758e+06,2.39392e-07],[3.57497e+06,2.1834e-07],[3.59236e+06,1.98755e-07],[3.60975e+06,1.80585e-07],[3.62714e+06,1.63769e-07],[3.64453e+06,1.48247e-07],[3.66193e+06,1.33954e-07],[3.67932e+06,1.20823e-07],[3.69671e+06,1.08789e-07],[3.7141e+06,9.7784e-08],[3.73149e+06,8.77431e-08],[3.74888e+06,7.86016e-08],[3.76627e+06,7.02965e-08],[3.78366e+06,6.2767e-08],[3.80105e+06,5.59544e-08],[3.81844e+06,4.98028e-08],[3.83583e+06,4.42588e-08],[3.85322e+06,3.92719e-08],[3.87061e+06,3.47946e-08],[3.888e+06,3.0782e-08],[3.90539e+06,2.71925e-08],[3.92279e+06,2.39871e-08],[3.94018e+06,2.11295e-08],[3.95757e+06,1.85865e-08],[3.97496e+06,1.6327e-08],[3.99235e+06,1.43229e-08],[4.00974e+06,1.2548e-08],[4.02713e+06,1.09786e-08],[4.04452e+06,9.59303e-09],[4.06191e+06,8.37168e-09],[4.0793e+06,7.29665e-09],[4.09669e+06,6.3518e-09],[4.11408e+06,5.52256e-09]] color=red fillStyle=solid lineStyle=solid pointStyle=none lineWidth=2]"
            ],
            "image/png": "[encoded data removed]"
          },
          "metadata": {},
          "execution_count": 117
        }
      ]
    },
    {
      "cell_type": "code",
      "source": [
        "R_dist = sm.distribution_R\n",
        "print(sm.distribution_R)\n",
        "graph = R_dist.drawPDF()\n",
        "view = viewer.View(graph)"
      ],
      "metadata": {
        "colab": {
          "base_uri": "https://localhost:8080/",
          "height": 307
        },
        "id": "SzImf9kznpAy",
        "outputId": "09483565-4831-4898-dabd-1d33d5c8cc14"
      },
      "execution_count": 118,
      "outputs": [
        {
          "output_type": "stream",
          "name": "stdout",
          "text": [
            "LogNormal(muLog = 14.9091, sigmaLog = 0.0997513, gamma = 0)\n"
          ]
        },
        {
          "output_type": "display_data",
          "data": {
            "text/plain": [
              "<Figure size 432x288 with 1 Axes>"
            ],
            "image/png": "[encoded data removed]"
          },
          "metadata": {
            "needs_background": "light"
          }
        }
      ]
    },
    {
      "cell_type": "code",
      "source": [
        "# Create a second marginal : Normal distribution 1D\n",
        "F_dist = ot.Normal(750., 50.)\n",
        "F_dist.setName('Traction_load')\n",
        "F_dist.setDescription('F')\n",
        "print(F_dist)\n",
        "# Graphical output of the PDF\n",
        "F_dist.drawPDF()"
      ],
      "metadata": {
        "colab": {
          "base_uri": "https://localhost:8080/",
          "height": 434
        },
        "id": "1KdrpGXzou3y",
        "outputId": "2128ec15-9118-488c-f84f-22723992c248"
      },
      "execution_count": 119,
      "outputs": [
        {
          "output_type": "stream",
          "name": "stdout",
          "text": [
            "Normal(mu = 750, sigma = 50)\n"
          ]
        },
        {
          "output_type": "execute_result",
          "data": {
            "text/plain": [
              "class=Graph name=pdf as a function of F implementation=class=GraphImplementation name=pdf as a function of F title= xTitle=F yTitle=PDF axes=ON grid=ON legendposition=topright legendFontSize=1 drawables=[class=Drawable name=Unnamed implementation=class=Curve name=Unnamed derived from class=DrawableImplementation name=Unnamed legend=F PDF data=class=Sample name=Unnamed implementation=class=SampleImplementation name=Unnamed size=129 dimension=2 data=[[563.442,7.5668e-06],[566.357,9.38953e-06],[569.272,1.16118e-05],[572.187,1.43113e-05],[575.102,1.75785e-05],[578.017,2.15184e-05],[580.932,2.62519e-05],[583.847,3.1918e-05],[586.762,3.86754e-05],[589.677,4.67044e-05],[592.592,5.62088e-05],[595.507,6.74179e-05],[598.422,8.05878e-05],[601.337,9.60037e-05],[604.252,0.00011398],[607.167,0.000134864],[610.081,0.000159033],[612.996,0.000186897],[615.911,0.000218897],[618.826,0.000255506],[621.741,0.000297226],[624.656,0.000344586],[627.571,0.000398135],[630.486,0.000458446],[633.401,0.000526102],[636.316,0.000601694],[639.231,0.000685811],[642.146,0.000779037],[645.061,0.000881932],[647.976,0.00099503],[650.891,0.00111882],[653.806,0.00125375],[656.721,0.00140018],[659.636,0.0015584],[662.551,0.00172862],[665.466,0.00191093],[668.381,0.0021053],[671.296,0.00231156],[674.211,0.00252943],[677.126,0.00275843],[680.041,0.00299797],[682.956,0.00324724],[685.871,0.00350531],[688.786,0.00377105],[691.701,0.00404317],[694.616,0.00432022],[697.531,0.00460059],[700.446,0.00488254],[703.36,0.00516417],[706.275,0.00544352],[709.19,0.00571852],[712.105,0.00598702],[715.02,0.00624686],[717.935,0.00649586],[720.85,0.00673187],[723.765,0.00695278],[726.68,0.00715658],[729.595,0.00734135],[732.51,0.00750534],[735.425,0.00764696],[738.34,0.00776482],[741.255,0.00785774],[744.17,0.00792479],[747.085,0.0079653],[750,0.00797885],[752.915,0.0079653],[755.83,0.00792479],[758.745,0.00785774],[761.66,0.00776482],[764.575,0.00764696],[767.49,0.00750534],[770.405,0.00734135],[773.32,0.00715658],[776.235,0.00695278],[779.15,0.00673187],[782.065,0.00649586],[784.98,0.00624686],[787.895,0.00598702],[790.81,0.00571852],[793.725,0.00544352],[796.64,0.00516417],[799.554,0.00488254],[802.469,0.00460059],[805.384,0.00432022],[808.299,0.00404317],[811.214,0.00377105],[814.129,0.00350531],[817.044,0.00324724],[819.959,0.00299797],[822.874,0.00275843],[825.789,0.00252943],[828.704,0.00231156],[831.619,0.0021053],[834.534,0.00191093],[837.449,0.00172862],[840.364,0.0015584],[843.279,0.00140018],[846.194,0.00125375],[849.109,0.00111882],[852.024,0.00099503],[854.939,0.000881932],[857.854,0.000779037],[860.769,0.000685811],[863.684,0.000601694],[866.599,0.000526102],[869.514,0.000458446],[872.429,0.000398135],[875.344,0.000344586],[878.259,0.000297226],[881.174,0.000255506],[884.089,0.000218897],[887.004,0.000186897],[889.919,0.000159033],[892.833,0.000134864],[895.748,0.00011398],[898.663,9.60037e-05],[901.578,8.05878e-05],[904.493,6.74179e-05],[907.408,5.62088e-05],[910.323,4.67044e-05],[913.238,3.86754e-05],[916.153,3.1918e-05],[919.068,2.62519e-05],[921.983,2.15184e-05],[924.898,1.75785e-05],[927.813,1.43113e-05],[930.728,1.16118e-05],[933.643,9.38953e-06],[936.558,7.5668e-06]] color=red fillStyle=solid lineStyle=solid pointStyle=none lineWidth=2]"
            ],
            "image/png": "[encoded data removed]"
          },
          "metadata": {},
          "execution_count": 119
        }
      ]
    },
    {
      "cell_type": "code",
      "source": [
        "F_dist = sm.distribution_F\n",
        "print(sm.distribution_F)\n",
        "graph = F_dist.drawPDF()\n",
        "view = viewer.View(graph)"
      ],
      "metadata": {
        "colab": {
          "base_uri": "https://localhost:8080/",
          "height": 307
        },
        "id": "CSnyA7SokeCZ",
        "outputId": "803e82eb-ea9a-417b-ef5e-984156d574dc"
      },
      "execution_count": 120,
      "outputs": [
        {
          "output_type": "stream",
          "name": "stdout",
          "text": [
            "Normal(mu = 750, sigma = 50)\n"
          ]
        },
        {
          "output_type": "display_data",
          "data": {
            "text/plain": [
              "<Figure size 432x288 with 1 Axes>"
            ],
            "image/png": "[encoded data removed]"
          },
          "metadata": {
            "needs_background": "light"
          }
        }
      ]
    },
    {
      "cell_type": "code",
      "source": [
        "# Create a copula : IndependentCopula (no correlation)\n",
        "aCopula = ot.IndependentCopula(dim)\n",
        "aCopula.setName('Independent copula')\n",
        "\n",
        "# Instanciate one distribution object\n",
        "myDistribution = ot.ComposedDistribution([R_dist, F_dist], aCopula)\n",
        "myDistribution.setName('myDist')\n",
        "print(myDistribution)\n",
        "print(sm.distribution)"
      ],
      "metadata": {
        "colab": {
          "base_uri": "https://localhost:8080/"
        },
        "id": "CEoAEawyo-Fi",
        "outputId": "02fd62d2-d976-4dab-f0a7-eb6a1e682a47"
      },
      "execution_count": 121,
      "outputs": [
        {
          "output_type": "stream",
          "name": "stdout",
          "text": [
            "ComposedDistribution(LogNormal(muLog = 14.9091, sigmaLog = 0.0997513, gamma = 0), Normal(mu = 750, sigma = 50), IndependentCopula(dimension = 2))\n",
            "ComposedDistribution(LogNormal(muLog = 14.9091, sigmaLog = 0.0997513, gamma = 0), Normal(mu = 750, sigma = 50), IndependentCopula(dimension = 2))\n"
          ]
        }
      ]
    },
    {
      "cell_type": "code",
      "source": [
        "# We create a 'usual' RandomVector from the Distribution (X)\n",
        "inputRandomVector = ot.RandomVector(myDistribution)\n",
        "\n",
        "# We create a composite random vector (Z=G(X))\n",
        "outputRandomVector = ot.CompositeRandomVector(limitStateFunction, inputRandomVector)"
      ],
      "metadata": {
        "id": "AWHB3oaYktDx"
      },
      "execution_count": 122,
      "outputs": []
    },
    {
      "cell_type": "code",
      "source": [
        "# Distribution of the output random vector\n",
        "sampleSize = 1000\n",
        "sampleG = outputRandomVector.getSample(sampleSize)\n",
        "graph = ot.HistogramFactory().build(sampleG).drawPDF()\n",
        "view = viewer.View(graph)"
      ],
      "metadata": {
        "colab": {
          "base_uri": "https://localhost:8080/",
          "height": 308
        },
        "id": "Qs35bgWflJvK",
        "outputId": "ebf616c8-38ea-4622-e9c9-578472059b99"
      },
      "execution_count": 123,
      "outputs": [
        {
          "output_type": "display_data",
          "data": {
            "text/plain": [
              "<Figure size 432x288 with 1 Axes>"
            ],
            "image/png": "[encoded data removed]"
          },
          "metadata": {
            "needs_background": "light"
          }
        }
      ]
    },
    {
      "cell_type": "code",
      "source": [
        "# We first create a ThresholdEvent based on the output RandomVector, the operator and the threshold.\n",
        "myEvent = ot.ThresholdEvent(outputRandomVector, ot.Less(), 0.0)"
      ],
      "metadata": {
        "id": "11pn6V0iqONx"
      },
      "execution_count": 124,
      "outputs": []
    },
    {
      "cell_type": "code",
      "source": [
        "# Exact computatiton of the probability \n",
        "# Prob(G<=0) = CDF_G(0)\n",
        "D = 0.02\n",
        "G = R_dist-F_dist/(D**2/4 * np.pi)\n",
        "G.computeCDF(0.)"
      ],
      "metadata": {
        "colab": {
          "base_uri": "https://localhost:8080/"
        },
        "id": "diKCtXo8k1n7",
        "outputId": "b70759ed-1b1f-4559-cb23-12490948c7c2"
      },
      "execution_count": 125,
      "outputs": [
        {
          "output_type": "execute_result",
          "data": {
            "text/plain": [
              "0.029198194624830504"
            ]
          },
          "metadata": {},
          "execution_count": 125
        }
      ]
    },
    {
      "cell_type": "markdown",
      "source": [
        "# Estimate the probability with Monte-Carlo"
      ],
      "metadata": {
        "id": "HTd7HxANt6-N"
      }
    },
    {
      "cell_type": "code",
      "source": [
        "maximumCoV = 0.01  # Coefficient of variation\n",
        "maximumNumberOfBlocks = 1000000"
      ],
      "metadata": {
        "id": "zQSCfqvzrAgc"
      },
      "execution_count": 126,
      "outputs": []
    },
    {
      "cell_type": "code",
      "source": [
        "experiment = ot.MonteCarloExperiment()\n",
        "\n",
        "algoMC = ot.ProbabilitySimulationAlgorithm(myEvent, experiment)\n",
        "algoMC.setMaximumOuterSampling(maximumNumberOfBlocks)\n",
        "algoMC.setBlockSize(1)\n",
        "algoMC.setMaximumCoefficientOfVariation(maximumCoV)"
      ],
      "metadata": {
        "id": "pA1MxZAouXOl"
      },
      "execution_count": 127,
      "outputs": []
    },
    {
      "cell_type": "code",
      "source": [
        "initialNumberOfCallMC = limitStateFunction.getEvaluationCallsNumber()"
      ],
      "metadata": {
        "id": "ABVpfYTovAH5"
      },
      "execution_count": 128,
      "outputs": []
    },
    {
      "cell_type": "code",
      "source": [
        "algoMC.run()"
      ],
      "metadata": {
        "id": "bDMXTZf4vA4k"
      },
      "execution_count": 129,
      "outputs": []
    },
    {
      "cell_type": "code",
      "source": [
        "resultMC = algoMC.getResult()\n",
        "probabilityMonteCarlo = resultMC.getProbabilityEstimate()\n",
        "numberOfFunctionEvaluationsMonteCarlo = limitStateFunction.getEvaluationCallsNumber() - \\\n",
        "    initialNumberOfCallMC\n",
        "print('Number of calls to the limit state =', numberOfFunctionEvaluationsMonteCarlo)\n",
        "print('Pf = ', probabilityMonteCarlo)\n",
        "print('CV =', resultMC.getCoefficientOfVariation())"
      ],
      "metadata": {
        "colab": {
          "base_uri": "https://localhost:8080/"
        },
        "id": "eAi-ZmZ2vE30",
        "outputId": "fba91bae-b04a-4e24-8c85-712461b1fbf7"
      },
      "execution_count": 130,
      "outputs": [
        {
          "output_type": "stream",
          "name": "stdout",
          "text": [
            "Number of calls to the limit state = 327990\n",
            "Pf =  0.029589316747461823\n",
            "CV = 0.0099995398310019\n"
          ]
        }
      ]
    },
    {
      "cell_type": "code",
      "source": [
        "graph = algoMC.drawProbabilityConvergence()\n",
        "graph.setLogScale(ot.GraphImplementation.LOGX)\n",
        "view = viewer.View(graph)"
      ],
      "metadata": {
        "colab": {
          "base_uri": "https://localhost:8080/",
          "height": 312
        },
        "id": "PIlwETp1vei7",
        "outputId": "da46f016-fdbd-474c-ce0d-6bad7b53b30a"
      },
      "execution_count": 131,
      "outputs": [
        {
          "output_type": "display_data",
          "data": {
            "text/plain": [
              "<Figure size 432x288 with 1 Axes>"
            ],
            "image/png": "[encoded data removed]"
          },
          "metadata": {
            "needs_background": "light"
          }
        }
      ]
    },
    {
      "cell_type": "code",
      "source": [
        "alpha = 0.05\n",
        "pflen = result.getConfidenceLength(1-alpha)\n",
        "print(\"%.2f%% confidence interval = [%f,%f]\" % (\n",
        "    (1-alpha)*100, probabilityMonteCarlo-pflen/2, probabilityMonteCarlo+pflen/2))"
      ],
      "metadata": {
        "colab": {
          "base_uri": "https://localhost:8080/"
        },
        "id": "abTQiwd5vylP",
        "outputId": "2ea1d9c8-7865-4dce-bbb3-b285f83edc0d"
      },
      "execution_count": 132,
      "outputs": [
        {
          "output_type": "stream",
          "name": "stdout",
          "text": [
            "95.00% confidence interval = [0.029010,0.030168]\n"
          ]
        }
      ]
    },
    {
      "cell_type": "markdown",
      "source": [
        "# Using FORM analysis"
      ],
      "metadata": {
        "id": "XGj_RG2_wlDa"
      }
    },
    {
      "cell_type": "code",
      "source": [
        "myCobyla = ot.Cobyla()\n",
        "# Resolution options:\n",
        "eps = 1e-3\n",
        "myCobyla.setMaximumEvaluationNumber(100)\n",
        "myCobyla.setMaximumAbsoluteError(eps)\n",
        "myCobyla.setMaximumRelativeError(eps)\n",
        "myCobyla.setMaximumResidualError(eps)\n",
        "myCobyla.setMaximumConstraintError(eps)"
      ],
      "metadata": {
        "id": "KE9os_S7wgOk"
      },
      "execution_count": 133,
      "outputs": []
    },
    {
      "cell_type": "code",
      "source": [
        "initialNumberOfCallFORM = limitStateFunction.getEvaluationCallsNumber()"
      ],
      "metadata": {
        "id": "jGaQSR8PwjZV"
      },
      "execution_count": 134,
      "outputs": []
    },
    {
      "cell_type": "code",
      "source": [
        "algoFORM = ot.FORM(myCobyla, myEvent, myDistribution.getMean())"
      ],
      "metadata": {
        "id": "ME-QxDFExA4c"
      },
      "execution_count": 135,
      "outputs": []
    },
    {
      "cell_type": "code",
      "source": [
        "algoFORM.run()"
      ],
      "metadata": {
        "id": "YpNDOc1lxOa_"
      },
      "execution_count": 136,
      "outputs": []
    },
    {
      "cell_type": "code",
      "source": [
        "resultFORM = algoFORM.getResult()\n",
        "numberOfFunctionEvaluationsFORM = limitStateFunction.getEvaluationCallsNumber() - \\\n",
        "    initialNumberOfCallFORM\n",
        "probabilityFORM = resultFORM.getEventProbability()\n",
        "print('Number of calls to the limit state =', numberOfFunctionEvaluationsFORM)\n",
        "print('Pf =', probabilityFORM)"
      ],
      "metadata": {
        "id": "598tVOk_xRxU",
        "outputId": "55924fe0-fa8a-4ece-bbf1-99a072999c2f",
        "colab": {
          "base_uri": "https://localhost:8080/"
        }
      },
      "execution_count": 137,
      "outputs": [
        {
          "output_type": "stream",
          "name": "stdout",
          "text": [
            "Number of calls to the limit state = 98\n",
            "Pf = 0.02998278558231473\n"
          ]
        }
      ]
    },
    {
      "cell_type": "code",
      "source": [
        "graph = resultFORM.drawImportanceFactors()\n",
        "view = viewer.View(graph)"
      ],
      "metadata": {
        "id": "xmvPi9rixY_a",
        "outputId": "5335127a-10e6-4b14-fe3e-abad4b0157d5",
        "colab": {
          "base_uri": "https://localhost:8080/",
          "height": 277
        }
      },
      "execution_count": 138,
      "outputs": [
        {
          "output_type": "display_data",
          "data": {
            "text/plain": [
              "<Figure size 432x288 with 1 Axes>"
            ],
            "image/png": "[encoded data removed]"
          },
          "metadata": {}
        }
      ]
    },
    {
      "cell_type": "markdown",
      "source": [
        "# Using Directional sampling"
      ],
      "metadata": {
        "id": "4nw9IKAYyiAT"
      }
    },
    {
      "cell_type": "code",
      "source": [
        "cv = 0.01\n",
        "NbSim = 1000000"
      ],
      "metadata": {
        "id": "lHLWrPT-xsfo"
      },
      "execution_count": 139,
      "outputs": []
    },
    {
      "cell_type": "code",
      "source": [
        "algoDS = ot.DirectionalSampling(myEvent)\n",
        "\n",
        "algoDS.setMaximumOuterSampling(NbSim)\n",
        "algoDS.setBlockSize(1)\n",
        "algoDS.setMaximumCoefficientOfVariation(cv)"
      ],
      "metadata": {
        "id": "FVaEfiomxvMI"
      },
      "execution_count": 140,
      "outputs": []
    },
    {
      "cell_type": "code",
      "source": [
        "initialNumberOfCallDS = limitStateFunction.getEvaluationCallsNumber()"
      ],
      "metadata": {
        "id": "2FSLb3llx4mQ"
      },
      "execution_count": 141,
      "outputs": []
    },
    {
      "cell_type": "code",
      "source": [
        "algoDS.run()"
      ],
      "metadata": {
        "id": "lnCm1a9Ox6oj"
      },
      "execution_count": 142,
      "outputs": []
    },
    {
      "cell_type": "code",
      "source": [
        "resultDS = algoDS.getResult()\n",
        "probabilityDirectionalSampling = resultDS.getProbabilityEstimate()\n",
        "numberOfFunctionEvaluationsDirectionalSampling = limitStateFunction.getEvaluationCallsNumber() - \\\n",
        "    initialNumberOfCallDS\n",
        "print('Number of calls to the limit state =',\n",
        "      numberOfFunctionEvaluationsDirectionalSampling)\n",
        "print('Pf = ', probabilityDirectionalSampling)\n",
        "print('CV =', resultDS.getCoefficientOfVariation())"
      ],
      "metadata": {
        "id": "EkslAMRCx-Ec",
        "outputId": "de7ed425-4b9e-4936-8666-9d77fcb71943",
        "colab": {
          "base_uri": "https://localhost:8080/"
        }
      },
      "execution_count": 143,
      "outputs": [
        {
          "output_type": "stream",
          "name": "stdout",
          "text": [
            "Number of calls to the limit state = 231890\n",
            "Pf =  0.02880049746591155\n",
            "CV = 0.009999774874889001\n"
          ]
        }
      ]
    },
    {
      "cell_type": "code",
      "source": [
        "graph = algoDS.drawProbabilityConvergence()\n",
        "graph.setLogScale(ot.GraphImplementation.LOGX)\n",
        "view = viewer.View(graph)"
      ],
      "metadata": {
        "id": "9YPpzQXiyCMi",
        "outputId": "dd9224eb-2055-472e-e255-f9bc02da503b",
        "colab": {
          "base_uri": "https://localhost:8080/",
          "height": 312
        }
      },
      "execution_count": 144,
      "outputs": [
        {
          "output_type": "display_data",
          "data": {
            "text/plain": [
              "<Figure size 432x288 with 1 Axes>"
            ],
            "image/png": "[encoded data removed]"
          },
          "metadata": {
            "needs_background": "light"
          }
        }
      ]
    },
    {
      "cell_type": "markdown",
      "source": [
        "# Using importance sampling with FORM design point: IS-FORM"
      ],
      "metadata": {
        "id": "S0n4IZSTydWS"
      }
    },
    {
      "cell_type": "code",
      "source": [
        "standardSpaceDesignPoint = resultFORM.getStandardSpaceDesignPoint()\n",
        "standardSpaceDesignPoint"
      ],
      "metadata": {
        "id": "swoW0aPUycI-",
        "outputId": "9ca7f4c3-5a88-47e7-8e0d-0b8dfe9de5c8",
        "colab": {
          "base_uri": "https://localhost:8080/",
          "height": 46
        }
      },
      "execution_count": 145,
      "outputs": [
        {
          "output_type": "execute_result",
          "data": {
            "text/plain": [
              "class=Point name=Standard Space Design Point dimension=2 values=[-1.59355,0.999463]"
            ],
            "text/html": [
              "<p>[-1.59355,0.999463]</p>"
            ]
          },
          "metadata": {},
          "execution_count": 145
        }
      ]
    },
    {
      "cell_type": "code",
      "source": [
        "dimension = myDistribution.getDimension()\n",
        "dimension"
      ],
      "metadata": {
        "id": "TMypZqdTy7M9",
        "outputId": "95220fe1-971c-4abd-ee11-5885b5dccb13",
        "colab": {
          "base_uri": "https://localhost:8080/"
        }
      },
      "execution_count": 146,
      "outputs": [
        {
          "output_type": "execute_result",
          "data": {
            "text/plain": [
              "2"
            ]
          },
          "metadata": {},
          "execution_count": 146
        }
      ]
    },
    {
      "cell_type": "code",
      "source": [
        "myImportance = ot.Normal(dimension)\n",
        "myImportance.setMean(standardSpaceDesignPoint)\n",
        "myImportance"
      ],
      "metadata": {
        "id": "5wb3Bb0Ey9Hm",
        "outputId": "d8824230-02bb-4bbc-cc19-a9cdcc3e1aa7",
        "colab": {
          "base_uri": "https://localhost:8080/",
          "height": 63
        }
      },
      "execution_count": 147,
      "outputs": [
        {
          "output_type": "execute_result",
          "data": {
            "text/plain": [
              "class=Normal name=Normal dimension=2 mean=class=Point name=Standard Space Design Point dimension=2 values=[-1.59355,0.999463] sigma=class=Point name=Unnamed dimension=2 values=[1,1] correlationMatrix=class=CorrelationMatrix dimension=2 implementation=class=MatrixImplementation name=Unnamed rows=2 columns=2 values=[1,0,0,1]"
            ],
            "text/html": [
              "<p>Normal(mu = [-1.59355,0.999463], sigma = [1,1], R = [[ 1 0 ]<br>\n",
              " [ 0 1 ]])</p>"
            ]
          },
          "metadata": {},
          "execution_count": 147
        }
      ]
    },
    {
      "cell_type": "code",
      "source": [
        "experiment = ot.ImportanceSamplingExperiment(myImportance)"
      ],
      "metadata": {
        "id": "dKZAKNtHzMMq"
      },
      "execution_count": 148,
      "outputs": []
    },
    {
      "cell_type": "markdown",
      "source": [
        "Create the standard event corresponding to the event. This transforms the original problem into the U-space, with Gaussian independent marginals."
      ],
      "metadata": {
        "id": "xs-NRXzfzZJT"
      }
    },
    {
      "cell_type": "code",
      "source": [
        "standardEvent = ot.StandardEvent(myEvent)"
      ],
      "metadata": {
        "id": "nBkQE8ObzUou"
      },
      "execution_count": 149,
      "outputs": []
    },
    {
      "cell_type": "markdown",
      "source": [
        "We then create the simulation algorithm."
      ],
      "metadata": {
        "id": "IodFkZahzhHC"
      }
    },
    {
      "cell_type": "code",
      "source": [
        "algoFORMIS = ot.ProbabilitySimulationAlgorithm(standardEvent, experiment)\n",
        "\n",
        "algoFORMIS.setMaximumCoefficientOfVariation(cv)\n",
        "algoFORMIS.setMaximumOuterSampling(40000)"
      ],
      "metadata": {
        "id": "VJmaGzUSzlLp"
      },
      "execution_count": 150,
      "outputs": []
    },
    {
      "cell_type": "code",
      "source": [
        "initialNumberOfCallFORMIS = limitStateFunction.getEvaluationCallsNumber()"
      ],
      "metadata": {
        "id": "ZPqc22LRztbs"
      },
      "execution_count": 151,
      "outputs": []
    },
    {
      "cell_type": "code",
      "source": [
        "algoFORMIS.run()"
      ],
      "metadata": {
        "id": "M3yD-LUJzvLe"
      },
      "execution_count": 152,
      "outputs": []
    },
    {
      "cell_type": "code",
      "source": [
        "resultFORMIS = algoFORMIS.getResult()\n",
        "probabilityFORMIS = resultFORMIS.getProbabilityEstimate()\n",
        "numberOfFunctionEvaluationsFORMIS = limitStateFunction.getEvaluationCallsNumber() - \\\n",
        "    initialNumberOfCallFORMIS\n",
        "print('Number of calls to the limit state =',\n",
        "      numberOfFunctionEvaluationsFORMIS)\n",
        "print('Pf = ', probabilityFORMIS)\n",
        "print('CV =', resultFORMIS.getCoefficientOfVariation())"
      ],
      "metadata": {
        "id": "aLXGoyfIzyf9",
        "outputId": "2f5ae263-6cfc-4d5f-b839-140017a49e16",
        "colab": {
          "base_uri": "https://localhost:8080/"
        }
      },
      "execution_count": 153,
      "outputs": [
        {
          "output_type": "stream",
          "name": "stdout",
          "text": [
            "Number of calls to the limit state = 22382\n",
            "Pf =  0.029537534430021512\n",
            "CV = 0.009999143195080261\n"
          ]
        }
      ]
    },
    {
      "cell_type": "markdown",
      "source": [
        "## Conclusions"
      ],
      "metadata": {
        "id": "eefTMYeIx0jk"
      }
    },
    {
      "cell_type": "code",
      "source": [
        "def computeLogRelativeError(exact, computed):\n",
        "    logRelativeError = -np.log10(abs(exact - computed) / abs(exact))\n",
        "    return logRelativeError"
      ],
      "metadata": {
        "id": "kYFAzWSc0bGt"
      },
      "execution_count": 154,
      "outputs": []
    },
    {
      "cell_type": "code",
      "source": [
        "def printMethodSummary(name, computedProbability, numberOfFunctionEvaluations):\n",
        "    print(\"---\")\n",
        "    print(name, \":\")\n",
        "    print('Number of calls to the limit state =', numberOfFunctionEvaluations)\n",
        "    print('Pf = ', computedProbability)\n",
        "    exactProbability = 0.02919819462483051\n",
        "    logRelativeError = computeLogRelativeError(\n",
        "        exactProbability, computedProbability)\n",
        "    print(\"Number of correct digits=%.3f\" % (logRelativeError))\n",
        "    performance = logRelativeError/numberOfFunctionEvaluations\n",
        "    print(\"Performance=%.2e (correct digits/evaluation)\" % (performance))\n",
        "    return"
      ],
      "metadata": {
        "id": "Q4gqaJZH0bRG"
      },
      "execution_count": 155,
      "outputs": []
    },
    {
      "cell_type": "code",
      "source": [
        "printMethodSummary(\"Monte-Carlo\", probabilityMonteCarlo,\n",
        "                   numberOfFunctionEvaluationsMonteCarlo)\n",
        "printMethodSummary(\"FORM\", probabilityFORM, numberOfFunctionEvaluationsFORM)\n",
        "printMethodSummary(\"DirectionalSampling\", probabilityDirectionalSampling,\n",
        "                   numberOfFunctionEvaluationsDirectionalSampling)\n",
        "printMethodSummary(\"IS-FORM\", probabilityFORMIS,\n",
        "                   numberOfFunctionEvaluationsFORMIS)"
      ],
      "metadata": {
        "id": "q0eiH4vp0bZT",
        "outputId": "00895373-28e5-4062-8906-7a42ca88656f",
        "colab": {
          "base_uri": "https://localhost:8080/"
        }
      },
      "execution_count": 156,
      "outputs": [
        {
          "output_type": "stream",
          "name": "stdout",
          "text": [
            "---\n",
            "Monte-Carlo :\n",
            "Number of calls to the limit state = 327990\n",
            "Pf =  0.029589316747461823\n",
            "Number of correct digits=1.873\n",
            "Performance=5.71e-06 (correct digits/evaluation)\n",
            "---\n",
            "FORM :\n",
            "Number of calls to the limit state = 98\n",
            "Pf =  0.02998278558231473\n",
            "Number of correct digits=1.571\n",
            "Performance=1.60e-02 (correct digits/evaluation)\n",
            "---\n",
            "DirectionalSampling :\n",
            "Number of calls to the limit state = 231890\n",
            "Pf =  0.02880049746591155\n",
            "Number of correct digits=1.866\n",
            "Performance=8.05e-06 (correct digits/evaluation)\n",
            "---\n",
            "FORM-IS :\n",
            "Number of calls to the limit state = 22382\n",
            "Pf =  0.029537534430021512\n",
            "Number of correct digits=1.935\n",
            "Performance=8.64e-05 (correct digits/evaluation)\n"
          ]
        }
      ]
    },
    {
      "cell_type": "code",
      "source": [
        ""
      ],
      "metadata": {
        "id": "bYJfJS9o0blG"
      },
      "execution_count": 156,
      "outputs": []
    },
    {
      "cell_type": "code",
      "source": [
        ""
      ],
      "metadata": {
        "id": "k6tKpgbT0bwf"
      },
      "execution_count": 156,
      "outputs": []
    },
    {
      "cell_type": "markdown",
      "source": [
        "https://openturns.github.io/openturns/latest/auto_reliability_sensitivity/reliability/plot_axial_stressed_beam.html"
      ],
      "metadata": {
        "id": "2XlDBSOelWBT"
      }
    }
  ]
}